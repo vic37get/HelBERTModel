{
 "cells": [
  {
   "cell_type": "code",
   "execution_count": null,
   "metadata": {},
   "outputs": [],
   "source": [
    "import pandas as pd\n",
    "import sys\n",
    "sys.path.insert(0, '../')\n",
    "from cleaner import Cleaner, Corretor\n",
    "from tqdm.auto import tqdm\n",
    "from pandarallel import pandarallel"
   ]
  },
  {
   "cell_type": "code",
   "execution_count": null,
   "metadata": {},
   "outputs": [],
   "source": [
    "dados = pd.read_csv('/var/projetos/Jupyterhubstorage/victor.silva/HelBERTModel/Datasets/MaskedLanguageModeling/LipSet/LipSet_chunk.csv')\n",
    "dados"
   ]
  },
  {
   "cell_type": "code",
   "execution_count": null,
   "metadata": {},
   "outputs": [],
   "source": [
    "lista_textos = []\n",
    "for indice in tqdm(dados.index):\n",
    "    if isinstance(dados.loc[indice, 'text'], str):\n",
    "        textos = dados.loc[indice, 'text'].split('\\n')\n",
    "        lista_textos.extend(textos)\n",
    "dados = pd.DataFrame({'text': lista_textos})\n",
    "dados"
   ]
  },
  {
   "cell_type": "code",
   "execution_count": null,
   "metadata": {},
   "outputs": [],
   "source": [
    "dados = dados.select_dtypes(include=['object'])\n",
    "dados.dropna(inplace=True)\n",
    "dados.drop_duplicates(inplace=True)\n",
    "dados.reset_index(drop=True, inplace=True)\n",
    "dados"
   ]
  },
  {
   "cell_type": "code",
   "execution_count": null,
   "metadata": {},
   "outputs": [],
   "source": [
    "dados['tamanho'] = dados['text'].apply(lambda x: len(x.split()))\n",
    "dados = dados[dados['tamanho'] > 10]\n",
    "dados"
   ]
  },
  {
   "cell_type": "code",
   "execution_count": null,
   "metadata": {},
   "outputs": [],
   "source": [
    "dados['tamanho'].describe()"
   ]
  },
  {
   "cell_type": "code",
   "execution_count": null,
   "metadata": {},
   "outputs": [],
   "source": [
    "dados.drop(columns=['tamanho'], inplace=True)\n",
    "dados.dropna(inplace=True)\n",
    "dados.drop_duplicates(inplace=True)\n",
    "dados.reset_index(drop=True, inplace=True)\n",
    "dados"
   ]
  },
  {
   "cell_type": "code",
   "execution_count": null,
   "metadata": {},
   "outputs": [],
   "source": [
    "def executaLimpeza(dataframe: pd.DataFrame, column: str, cased, accents) -> pd.DataFrame:\n",
    "    \"\"\"\n",
    "    Executa a limpeza do DataFrame usando as classes Cleaner e Corretor.\n",
    "    \"\"\"\n",
    "    pandarallel.initialize(progress_bar=True)\n",
    "    dataframe[column] = dataframe[column].parallel_apply(lambda x: Cleaner().clear(x))\n",
    "    dataframe[column] = dataframe[column].parallel_apply(lambda x: Corretor(cased, accents).corrige_termos(x))\n",
    "    return dataframe"
   ]
  },
  {
   "cell_type": "code",
   "execution_count": null,
   "metadata": {},
   "outputs": [],
   "source": [
    "dados = executaLimpeza(dados, 'text', cased=False, accents=False)\n",
    "dados"
   ]
  },
  {
   "cell_type": "code",
   "execution_count": null,
   "metadata": {},
   "outputs": [],
   "source": [
    "dados = dados.select_dtypes(include=['object'])\n",
    "dados.dropna(inplace=True)\n",
    "dados.drop_duplicates(inplace=True)\n",
    "dados.reset_index(drop=True, inplace=True)\n",
    "dados"
   ]
  },
  {
   "cell_type": "code",
   "execution_count": null,
   "metadata": {},
   "outputs": [],
   "source": [
    "from transformers import AutoTokenizer\n",
    "tokenizer = AutoTokenizer.from_pretrained('/var/projetos/Jupyterhubstorage/victor.silva/HelBERTModel/Modelos/PreTreinamento/HelBERT-uncased-fs/checkpoint-epoca-6')"
   ]
  },
  {
   "cell_type": "code",
   "execution_count": null,
   "metadata": {},
   "outputs": [],
   "source": [
    "tqdm.pandas()\n",
    "dados['tamanho'] = dados['text'].progress_apply(lambda x: len(tokenizer(x)['input_ids']))"
   ]
  },
  {
   "cell_type": "code",
   "execution_count": null,
   "metadata": {},
   "outputs": [],
   "source": [
    "dados['tamanho'].describe()"
   ]
  },
  {
   "cell_type": "code",
   "execution_count": null,
   "metadata": {},
   "outputs": [],
   "source": [
    "dados = dados[dados['tamanho'] <= 128]\n",
    "dados = dados[dados['tamanho'] >= 10]\n",
    "dados"
   ]
  },
  {
   "cell_type": "code",
   "execution_count": null,
   "metadata": {},
   "outputs": [],
   "source": [
    "dados.drop(columns=['tamanho'], inplace=True)\n",
    "dados.reset_index(drop=True, inplace=True)\n",
    "dados"
   ]
  },
  {
   "cell_type": "code",
   "execution_count": null,
   "metadata": {},
   "outputs": [],
   "source": [
    "dados.to_csv('/var/projetos/Jupyterhubstorage/victor.silva/HelBERTModel/Datasets/MaskedLanguageModeling/LipSet/LipSet_chunk_lowercase.csv', index=False)"
   ]
  }
 ],
 "metadata": {
  "kernelspec": {
   "display_name": "Python 3",
   "language": "python",
   "name": "python3"
  },
  "language_info": {
   "codemirror_mode": {
    "name": "ipython",
    "version": 3
   },
   "file_extension": ".py",
   "mimetype": "text/x-python",
   "name": "python",
   "nbconvert_exporter": "python",
   "pygments_lexer": "ipython3",
   "version": "3.8.10"
  }
 },
 "nbformat": 4,
 "nbformat_minor": 2
}
