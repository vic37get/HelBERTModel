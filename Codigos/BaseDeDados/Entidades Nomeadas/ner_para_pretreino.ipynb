{
 "cells": [
  {
   "cell_type": "code",
   "execution_count": null,
   "metadata": {},
   "outputs": [],
   "source": [
    "import pandas as pd"
   ]
  },
  {
   "cell_type": "code",
   "execution_count": null,
   "metadata": {},
   "outputs": [],
   "source": [
    "treino = pd.read_csv(\"/var/projetos/Jupyterhubstorage/victor.silva/HelBERTModel/Datasets/EntidadesNomeadas/ner_pt/ner_pt_treino.csv\")\n",
    "teste = pd.read_csv(\"/var/projetos/Jupyterhubstorage/victor.silva/HelBERTModel/Datasets/EntidadesNomeadas/ner_pt/ner_pt_teste.csv\")"
   ]
  },
  {
   "cell_type": "code",
   "execution_count": null,
   "metadata": {},
   "outputs": [],
   "source": [
    "dados = pd.concat([treino, teste], ignore_index=True)\n",
    "dados"
   ]
  },
  {
   "cell_type": "code",
   "execution_count": null,
   "metadata": {},
   "outputs": [],
   "source": [
    "from tqdm.auto import tqdm\n",
    "\n",
    "pontuacoes = {',', '.', '!', '?', ';', ':', ')', ']', '%'}\n",
    "lista_textos = []\n",
    "\n",
    "for indice in tqdm(dados.index):\n",
    "    text = eval(dados['tokens'][indice])\n",
    "    result = []\n",
    "    for token in text:\n",
    "        if token in pontuacoes and result:\n",
    "            result[-1] += token  # Adiciona a pontuação ao último token\n",
    "        else:\n",
    "            result.append(token)\n",
    "    text = ' '.join(result)\n",
    "    lista_textos.append(text)\n",
    "dataframe = pd.DataFrame({'text': lista_textos})\n",
    "dataframe"
   ]
  },
  {
   "cell_type": "code",
   "execution_count": null,
   "metadata": {},
   "outputs": [],
   "source": [
    "texts_train = dataframe['text'][:18000].tolist()\n",
    "texts_test = dataframe['text'][18000:].tolist()"
   ]
  },
  {
   "cell_type": "code",
   "execution_count": null,
   "metadata": {},
   "outputs": [],
   "source": [
    "texts_test"
   ]
  },
  {
   "cell_type": "code",
   "execution_count": null,
   "metadata": {},
   "outputs": [],
   "source": [
    "with open(\"/var/projetos/Jupyterhubstorage/victor.silva/HelBERTModel/Datasets/EntidadesNomeadas/ner_pt/ner_pt_pre_treinamento_treino.txt\", \"w\") as file:\n",
    "    for text in texts_train:\n",
    "        file.write(text + \"\\n\")"
   ]
  },
  {
   "cell_type": "code",
   "execution_count": null,
   "metadata": {},
   "outputs": [],
   "source": [
    "with open(\"/var/projetos/Jupyterhubstorage/victor.silva/HelBERTModel/Datasets/EntidadesNomeadas/ner_pt/ner_pt_pre_treinamento_teste.txt\", \"w\") as file:\n",
    "    for text in texts_test:\n",
    "        file.write(text + \"\\n\")"
   ]
  }
 ],
 "metadata": {
  "kernelspec": {
   "display_name": "Python 3",
   "language": "python",
   "name": "python3"
  },
  "language_info": {
   "codemirror_mode": {
    "name": "ipython",
    "version": 3
   },
   "file_extension": ".py",
   "mimetype": "text/x-python",
   "name": "python",
   "nbconvert_exporter": "python",
   "pygments_lexer": "ipython3",
   "version": "3.8.10"
  }
 },
 "nbformat": 4,
 "nbformat_minor": 2
}
