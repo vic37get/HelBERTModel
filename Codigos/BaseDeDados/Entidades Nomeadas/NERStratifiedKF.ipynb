{
 "cells": [
  {
   "cell_type": "code",
   "execution_count": 1,
   "id": "24a2375d-c84f-4d48-8e7a-0a0fab1b3c55",
   "metadata": {},
   "outputs": [],
   "source": [
    "from sklearn.model_selection import KFold\n",
    "from datasets import load_from_disk\n",
    "import numpy as np"
   ]
  },
  {
   "cell_type": "code",
   "execution_count": null,
   "id": "3bbbd930",
   "metadata": {},
   "outputs": [],
   "source": [
    "dataset = load_from_disk('/var/projetos/Jupyterhubstorage/victor.silva/HelBERTModel/Datasets/EntidadesNomeadas/ner_keyphrase_cv')\n",
    "dataset"
   ]
  },
  {
   "cell_type": "code",
   "execution_count": 3,
   "id": "0c273c34",
   "metadata": {},
   "outputs": [],
   "source": [
    "# data, labels = dataset['train']['tokens'], dataset['train']['ner_tags']\n",
    "data, labels = dataset['tokens'], dataset['ner_tags']"
   ]
  },
  {
   "cell_type": "code",
   "execution_count": 4,
   "id": "62d9dd9e-d212-45f0-84d8-5ef4105dc29f",
   "metadata": {},
   "outputs": [],
   "source": [
    "kf = KFold(n_splits=5, shuffle=True, random_state=42)"
   ]
  },
  {
   "cell_type": "code",
   "execution_count": 5,
   "id": "d5577853",
   "metadata": {},
   "outputs": [],
   "source": [
    "folds = []"
   ]
  },
  {
   "cell_type": "code",
   "execution_count": 6,
   "id": "46a554f9",
   "metadata": {},
   "outputs": [],
   "source": [
    "for fold, (train_index, test_index) in enumerate(kf.split(data)):\n",
    "    folds.append((train_index, test_index))"
   ]
  },
  {
   "cell_type": "code",
   "execution_count": 7,
   "id": "ce6766e7-c736-42c1-abfc-901e32881bcf",
   "metadata": {},
   "outputs": [],
   "source": [
    "np.save('/var/projetos/Jupyterhubstorage/victor.silva/HelBERTModel/Codigos/FineTuning/EntidadesNomeadas/CrossValidation/folds_ner_keyphrase_cv.npy', np.array(folds, dtype=object), allow_pickle=True)"
   ]
  }
 ],
 "metadata": {
  "kernelspec": {
   "display_name": "Python 3",
   "language": "python",
   "name": "python3"
  },
  "language_info": {
   "codemirror_mode": {
    "name": "ipython",
    "version": 3
   },
   "file_extension": ".py",
   "mimetype": "text/x-python",
   "name": "python",
   "nbconvert_exporter": "python",
   "pygments_lexer": "ipython3",
   "version": "3.8.10"
  }
 },
 "nbformat": 4,
 "nbformat_minor": 5
}
