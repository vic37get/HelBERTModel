{
 "cells": [
  {
   "cell_type": "code",
   "execution_count": null,
   "id": "24a2375d-c84f-4d48-8e7a-0a0fab1b3c55",
   "metadata": {},
   "outputs": [],
   "source": [
    "from sklearn.model_selection import StratifiedKFold\n",
    "import numpy as np\n",
    "import pandas as pd"
   ]
  },
  {
   "cell_type": "code",
   "execution_count": null,
   "id": "72c313b2-0d2c-4388-b63d-29ccaaa7f8d0",
   "metadata": {},
   "outputs": [],
   "source": [
    "dataset = pd.read_csv('/var/projetos/Jupyterhubstorage/victor.silva/HelBERTModel/Datasets/Objetos/DatasetsGold/df_tipos_objetos_cased.csv')\n",
    "dataset"
   ]
  },
  {
   "cell_type": "code",
   "execution_count": null,
   "id": "62d9dd9e-d212-45f0-84d8-5ef4105dc29f",
   "metadata": {},
   "outputs": [],
   "source": [
    "folds=[]"
   ]
  },
  {
   "cell_type": "code",
   "execution_count": null,
   "id": "85b32b66-1483-409f-b6f6-26080066c0e8",
   "metadata": {},
   "outputs": [],
   "source": [
    "skf = StratifiedKFold(n_splits=5, shuffle=True, random_state=0)\n",
    "target=dataset.drop(['text'], axis=1).values\n",
    "for train_index, test_index in skf.split(X=dataset.values, y=target):\n",
    "    folds.append((train_index,test_index))"
   ]
  },
  {
   "cell_type": "code",
   "execution_count": null,
   "id": "ce6766e7-c736-42c1-abfc-901e32881bcf",
   "metadata": {},
   "outputs": [],
   "source": [
    "np.save('/var/projetos/Jupyterhubstorage/victor.silva/HelBERTModel/Codigos/FineTuning/Objetos/CrossValidation/Congelado/folds_cased.npy', np.array(folds, dtype=object), allow_pickle=True)"
   ]
  }
 ],
 "metadata": {
  "kernelspec": {
   "display_name": "Python 3 (ipykernel)",
   "language": "python",
   "name": "python3"
  },
  "language_info": {
   "codemirror_mode": {
    "name": "ipython",
    "version": 3
   },
   "file_extension": ".py",
   "mimetype": "text/x-python",
   "name": "python",
   "nbconvert_exporter": "python",
   "pygments_lexer": "ipython3",
   "version": "3.8.10"
  }
 },
 "nbformat": 4,
 "nbformat_minor": 5
}
