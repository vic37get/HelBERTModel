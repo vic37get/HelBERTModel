{
 "cells": [
  {
   "cell_type": "code",
   "execution_count": null,
   "metadata": {},
   "outputs": [],
   "source": [
    "import pandas as pd\n",
    "import sys\n",
    "sys.path.insert(0, '../')\n",
    "from cleaner import Cleaner, Corretor\n",
    "from tqdm.auto import tqdm"
   ]
  },
  {
   "cell_type": "code",
   "execution_count": null,
   "metadata": {},
   "outputs": [],
   "source": [
    "dados = pd.read_csv('/var/projetos/Jupyterhubstorage/victor.silva/HelBERTModel/Datasets/Indicios/DatasetsGold/dataset_bid_notices_gold.csv')\n",
    "dados"
   ]
  },
  {
   "cell_type": "code",
   "execution_count": null,
   "metadata": {},
   "outputs": [],
   "source": [
    "dados.columns"
   ]
  },
  {
   "cell_type": "code",
   "execution_count": null,
   "metadata": {},
   "outputs": [],
   "source": [
    "print(dados['certidao_protesto'].value_counts())\n",
    "print(dados['certificado_boas_praticas'].value_counts())\n",
    "print(dados['comprovante_localizacao'].value_counts())\n",
    "print(dados['idoneidade_financeira'].value_counts())\n",
    "print(dados['integralizado'].value_counts())\n",
    "print(dados['licenca_ambiental'].value_counts())\n",
    "print(dados['n_min_max_limitacao_atestados'].value_counts())"
   ]
  },
  {
   "cell_type": "code",
   "execution_count": null,
   "metadata": {},
   "outputs": [],
   "source": [
    "dados.drop_duplicates(subset=['text'], inplace=True)\n",
    "dados"
   ]
  },
  {
   "cell_type": "code",
   "execution_count": null,
   "metadata": {},
   "outputs": [],
   "source": [
    "dados.reset_index(drop=True, inplace=True)\n",
    "dados.to_csv('/var/projetos/Jupyterhubstorage/victor.silva/HelBERTModel/Datasets/Indicios/DatasetsGold/dataset_bid_notices_gold.csv', index=False)"
   ]
  },
  {
   "cell_type": "code",
   "execution_count": null,
   "metadata": {},
   "outputs": [],
   "source": [
    "from skmultilearn.model_selection import iterative_train_test_split\n",
    "from sklearn.model_selection import train_test_split"
   ]
  },
  {
   "cell_type": "code",
   "execution_count": null,
   "metadata": {},
   "outputs": [],
   "source": [
    "X_train, y_train, X_test, y_test = iterative_train_test_split(dados.values, dados[dados.columns[1:]].values, test_size = 0.20)\n",
    "X_test, y_test, X_val, y_val = iterative_train_test_split(X_test, y_test, test_size = 0.5)"
   ]
  },
  {
   "cell_type": "code",
   "execution_count": null,
   "metadata": {},
   "outputs": [],
   "source": [
    "treino, teste = train_test_split(dados, test_size=0.20)\n",
    "teste, validacao = train_test_split(teste, test_size=0.50)"
   ]
  },
  {
   "cell_type": "code",
   "execution_count": null,
   "metadata": {},
   "outputs": [],
   "source": [
    "treino = pd.DataFrame(X_train, columns=dados.columns)\n",
    "teste = pd.DataFrame(X_test, columns=dados.columns)\n",
    "validacao = pd.DataFrame(X_val, columns=dados.columns)"
   ]
  },
  {
   "cell_type": "code",
   "execution_count": null,
   "metadata": {},
   "outputs": [],
   "source": [
    "treino.reset_index(drop=True, inplace=True)\n",
    "treino"
   ]
  },
  {
   "cell_type": "code",
   "execution_count": null,
   "metadata": {},
   "outputs": [],
   "source": [
    "teste.reset_index(drop=True, inplace=True)\n",
    "teste"
   ]
  },
  {
   "cell_type": "code",
   "execution_count": null,
   "metadata": {},
   "outputs": [],
   "source": [
    "validacao.reset_index(drop=True, inplace=True)\n",
    "validacao"
   ]
  },
  {
   "cell_type": "code",
   "execution_count": null,
   "metadata": {},
   "outputs": [],
   "source": [
    "treino.to_csv('/var/projetos/Jupyterhubstorage/victor.silva/HelBERTModel/Datasets/Indicios/DatasetsGold/dataset_bid_notices_gold_treino.csv', index=False)\n",
    "teste.to_csv('/var/projetos/Jupyterhubstorage/victor.silva/HelBERTModel/Datasets/Indicios/DatasetsGold/dataset_bid_notices_gold_teste.csv', index=False)\n",
    "validacao.to_csv('/var/projetos/Jupyterhubstorage/victor.silva/HelBERTModel/Datasets/Indicios/DatasetsGold/dataset_bid_notices_gold_validacao.csv', index=False)"
   ]
  },
  {
   "cell_type": "markdown",
   "metadata": {},
   "source": [
    "### Modificação da base de dados"
   ]
  },
  {
   "cell_type": "code",
   "execution_count": null,
   "metadata": {},
   "outputs": [],
   "source": [
    "import pandas as pd\n",
    "import re"
   ]
  },
  {
   "cell_type": "code",
   "execution_count": null,
   "metadata": {},
   "outputs": [],
   "source": [
    "treino = pd.read_csv('/var/projetos/Jupyterhubstorage/victor.silva/HelBERTModel/Datasets/Indicios/DatasetsGold/dataset_bid_notices_gold_treino.csv')\n",
    "teste = pd.read_csv('/var/projetos/Jupyterhubstorage/victor.silva/HelBERTModel/Datasets/Indicios/DatasetsGold/dataset_bid_notices_gold_teste.csv')\n",
    "validacao = pd.read_csv('/var/projetos/Jupyterhubstorage/victor.silva/HelBERTModel/Datasets/Indicios/DatasetsGold/dataset_bid_notices_gold_validacao.csv')"
   ]
  },
  {
   "cell_type": "code",
   "execution_count": null,
   "metadata": {},
   "outputs": [],
   "source": [
    "teste = pd.concat([teste, validacao], ignore_index=True)\n",
    "teste"
   ]
  },
  {
   "cell_type": "code",
   "execution_count": null,
   "metadata": {},
   "outputs": [],
   "source": [
    "print(treino['certidao_protesto'].value_counts())\n",
    "print(treino['certificado_boas_praticas'].value_counts())\n",
    "print(treino['comprovante_localizacao'].value_counts())\n",
    "print(treino['idoneidade_financeira'].value_counts())\n",
    "print(treino['integralizado'].value_counts())\n",
    "print(treino['licenca_ambiental'].value_counts())\n",
    "print(treino['n_min_max_limitacao_atestados'].value_counts())"
   ]
  },
  {
   "cell_type": "code",
   "execution_count": null,
   "metadata": {},
   "outputs": [],
   "source": [
    "print(teste['certidao_protesto'].value_counts())\n",
    "print(teste['certificado_boas_praticas'].value_counts())\n",
    "print(teste['comprovante_localizacao'].value_counts())\n",
    "print(teste['idoneidade_financeira'].value_counts())\n",
    "print(teste['integralizado'].value_counts())\n",
    "print(teste['licenca_ambiental'].value_counts())\n",
    "print(teste['n_min_max_limitacao_atestados'].value_counts())"
   ]
  },
  {
   "cell_type": "code",
   "execution_count": null,
   "metadata": {},
   "outputs": [],
   "source": [
    "len(treino[treino['n_min_max_limitacao_atestados'] == 1])"
   ]
  },
  {
   "cell_type": "code",
   "execution_count": null,
   "metadata": {},
   "outputs": [],
   "source": [
    "import re\n",
    "n_min_max_limitacao_atestados = re.compile(r'((((dois|duas)|(tr[êe]s)|(quatro)|(cinco)).{0,10}((atestado[s]?)|(certid[aãoões]*))).{0,20}((capacidade t[eé]cnica)|(qualifica[cç][aã]o t[eé]cnica)))', flags=re.IGNORECASE|re.S)\n",
    "n_min_max_limitacao_atestados_numero = re.compile(r'(((<numero>).{0,10}((atestado[s]?)|(certid[aãoões]*))).{0,20}((capacidade t[eé]cnica)|(qualifica[cç][aã]o t[eé]cnica)))', flags=re.IGNORECASE|re.S)"
   ]
  },
  {
   "cell_type": "code",
   "execution_count": null,
   "metadata": {},
   "outputs": [],
   "source": [
    "import random\n",
    "lista_qtds = ['dois', 'tres', 'quatro', 'cinco']"
   ]
  },
  {
   "cell_type": "code",
   "execution_count": null,
   "metadata": {},
   "outputs": [],
   "source": [
    "def substituir_numero(match):\n",
    "    numero_extenso = random.choice(['dois', 'tres', 'quatro', 'cinco'])\n",
    "    return match.group(0).replace('<numero>', numero_extenso)"
   ]
  },
  {
   "cell_type": "code",
   "execution_count": null,
   "metadata": {},
   "outputs": [],
   "source": [
    "def ajustaNumero(treino):\n",
    "    for indice in treino.index:\n",
    "        if treino['n_min_max_limitacao_atestados'][indice] == 1:\n",
    "            busca = re.search(n_min_max_limitacao_atestados_numero, treino['text'][indice])\n",
    "            if busca != None:\n",
    "                texto_substituido = re.sub(n_min_max_limitacao_atestados_numero, substituir_numero, treino['text'][indice])\n",
    "                print(busca)\n",
    "                treino.at[indice, 'text'] = texto_substituido\n",
    "    return treino"
   ]
  },
  {
   "cell_type": "code",
   "execution_count": null,
   "metadata": {},
   "outputs": [],
   "source": [
    "def ajustaNumeroNegativo(treino):\n",
    "    for indice in treino.index:\n",
    "        if treino['n_min_max_limitacao_atestados'][indice] == 0:\n",
    "            busca = re.search(n_min_max_limitacao_atestados_numero, treino['text'][indice])\n",
    "            if busca != None:\n",
    "                #texto_substituido = re.sub(n_min_max_limitacao_atestados_numero, substituir_numero, treino['text'][indice])\n",
    "                print(busca)\n",
    "                #treino.at[indice, 'text'] = texto_substituido\n",
    "    #return treino"
   ]
  },
  {
   "cell_type": "code",
   "execution_count": null,
   "metadata": {},
   "outputs": [],
   "source": [
    "ajustaNumeroNegativo(treino)"
   ]
  },
  {
   "cell_type": "code",
   "execution_count": null,
   "metadata": {},
   "outputs": [],
   "source": [
    "treino = ajustaNumero(treino)\n",
    "teste = ajustaNumero(teste)\n",
    "validacao = ajustaNumero(validacao)"
   ]
  },
  {
   "cell_type": "code",
   "execution_count": null,
   "metadata": {},
   "outputs": [],
   "source": [
    "treino.to_csv('/var/projetos/Jupyterhubstorage/victor.silva/HelBERTModel/Datasets/Indicios/DatasetsGold/dataset_bid_notices_gold_treino_ajustado.csv', index=False)\n",
    "teste.to_csv('/var/projetos/Jupyterhubstorage/victor.silva/HelBERTModel/Datasets/Indicios/DatasetsGold/dataset_bid_notices_gold_teste_ajustado.csv', index=False)\n",
    "validacao.to_csv('/var/projetos/Jupyterhubstorage/victor.silva/HelBERTModel/Datasets/Indicios/DatasetsGold/dataset_bid_notices_gold_validacao_ajustado.csv', index=False)"
   ]
  },
  {
   "cell_type": "markdown",
   "metadata": {},
   "source": [
    "### Divisão stratified"
   ]
  },
  {
   "cell_type": "code",
   "execution_count": null,
   "metadata": {},
   "outputs": [],
   "source": [
    "from skmultilearn.model_selection import iterative_train_test_split"
   ]
  },
  {
   "cell_type": "code",
   "execution_count": null,
   "metadata": {},
   "outputs": [],
   "source": [
    "X_train, y_train, X_test, y_test = iterative_train_test_split(dados.values, dados[dados.columns[1:]].values, test_size = 0.25)\n",
    "#X_test, y_test, X_val, y_val = iterative_train_test_split(X_test, y_test, test_size = 0.5)"
   ]
  },
  {
   "cell_type": "code",
   "execution_count": null,
   "metadata": {},
   "outputs": [],
   "source": [
    "treino = pd.DataFrame(X_train, columns=dados.columns)\n",
    "teste = pd.DataFrame(X_test, columns=dados.columns)\n",
    "#validacao = pd.DataFrame(X_val, columns=dados.columns)"
   ]
  },
  {
   "cell_type": "code",
   "execution_count": null,
   "metadata": {},
   "outputs": [],
   "source": [
    "print(treino['certidao_protesto'].value_counts())\n",
    "print(treino['certificado_boas_praticas'].value_counts())\n",
    "print(treino['comprovante_localizacao'].value_counts())\n",
    "print(treino['idoneidade_financeira'].value_counts())\n",
    "print(treino['integralizado'].value_counts())\n",
    "print(treino['licenca_ambiental'].value_counts())\n",
    "print(treino['n_min_max_limitacao_atestados'].value_counts())"
   ]
  },
  {
   "cell_type": "code",
   "execution_count": null,
   "metadata": {},
   "outputs": [],
   "source": [
    "print(teste['certidao_protesto'].value_counts())\n",
    "print(teste['certificado_boas_praticas'].value_counts())\n",
    "print(teste['comprovante_localizacao'].value_counts())\n",
    "print(teste['idoneidade_financeira'].value_counts())\n",
    "print(teste['integralizado'].value_counts())\n",
    "print(teste['licenca_ambiental'].value_counts())\n",
    "print(teste['n_min_max_limitacao_atestados'].value_counts())"
   ]
  },
  {
   "cell_type": "code",
   "execution_count": null,
   "metadata": {},
   "outputs": [],
   "source": [
    "treino.to_csv('/var/projetos/Jupyterhubstorage/victor.silva/HelBERTModel/Datasets/Indicios/DatasetsGold/Stratified/dataset_bid_notices_gold_treino_stratified.csv', index=False)\n",
    "teste.to_csv('/var/projetos/Jupyterhubstorage/victor.silva/HelBERTModel/Datasets/Indicios/DatasetsGold/Stratified/dataset_bid_notices_gold_teste_stratified.csv', index=False)"
   ]
  }
 ],
 "metadata": {
  "kernelspec": {
   "display_name": "Python 3",
   "language": "python",
   "name": "python3"
  },
  "language_info": {
   "codemirror_mode": {
    "name": "ipython",
    "version": 3
   },
   "file_extension": ".py",
   "mimetype": "text/x-python",
   "name": "python",
   "nbconvert_exporter": "python",
   "pygments_lexer": "ipython3",
   "version": "3.8.10"
  }
 },
 "nbformat": 4,
 "nbformat_minor": 2
}
