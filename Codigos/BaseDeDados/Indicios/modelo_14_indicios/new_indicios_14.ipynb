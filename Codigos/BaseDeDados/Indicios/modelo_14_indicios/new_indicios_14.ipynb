{
 "cells": [
  {
   "cell_type": "code",
   "execution_count": null,
   "metadata": {},
   "outputs": [],
   "source": [
    "from datasets import load_dataset, DatasetDict, Dataset\n",
    "import pandas as pd\n",
    "import expressoes as exp\n",
    "import re\n",
    "from tqdm.auto import tqdm\n",
    "from pandarallel import pandarallel\n",
    "from cleaner import Cleaner, Corretor, executaLimpeza"
   ]
  },
  {
   "cell_type": "markdown",
   "metadata": {},
   "source": [
    "### Continuação dos 14 indícios a partir da base com back_translate"
   ]
  },
  {
   "cell_type": "code",
   "execution_count": null,
   "metadata": {},
   "outputs": [],
   "source": [
    "dados = load_dataset('tcepi/bidCorpus_14_indicios', token=token)\n",
    "dados"
   ]
  },
  {
   "cell_type": "code",
   "execution_count": null,
   "metadata": {},
   "outputs": [],
   "source": [
    "dados_teste = pd.DataFrame(dados['test'])\n",
    "dados_teste"
   ]
  },
  {
   "cell_type": "code",
   "execution_count": null,
   "metadata": {},
   "outputs": [],
   "source": [
    "dados_csv = pd.DataFrame(dados['train'])\n",
    "dados_csv"
   ]
  },
  {
   "cell_type": "code",
   "execution_count": null,
   "metadata": {},
   "outputs": [],
   "source": [
    "amostras_corretas = []\n",
    "for indice in tqdm(dados_csv.index):\n",
    "    for name_expression, expression in exp.expressoes.items():\n",
    "        if re.search(expression, dados_csv['text'][indice]):\n",
    "            amostras_corretas.append(dados_csv.loc[indice])\n",
    "            break\n",
    "df_com_indicios = pd.DataFrame(amostras_corretas)\n",
    "df_com_indicios"
   ]
  },
  {
   "cell_type": "code",
   "execution_count": null,
   "metadata": {},
   "outputs": [],
   "source": [
    "df_com_indicios.dropna(subset=['text'], inplace=True)\n",
    "df_com_indicios.drop_duplicates(subset=['text'], inplace=True)\n",
    "df_com_indicios.reset_index(drop=True, inplace=True)\n",
    "df_com_indicios"
   ]
  },
  {
   "cell_type": "code",
   "execution_count": null,
   "metadata": {},
   "outputs": [],
   "source": [
    "indicios_antes = dados_csv.drop(columns=['text']).sum()\n",
    "indicios_antes"
   ]
  },
  {
   "cell_type": "code",
   "execution_count": null,
   "metadata": {},
   "outputs": [],
   "source": [
    "df_com_indicios.drop(columns=['text']).sum()"
   ]
  },
  {
   "cell_type": "code",
   "execution_count": null,
   "metadata": {},
   "outputs": [],
   "source": [
    "df_com_indicios.drop(columns=['contratacao_visto_registro_profissional'], inplace=True)\n",
    "df_com_indicios"
   ]
  },
  {
   "cell_type": "code",
   "execution_count": null,
   "metadata": {},
   "outputs": [],
   "source": [
    "# Reduzindo as duas classes majoritárias\n",
    "indices_garantia_cs_ou_pl = []\n",
    "indices_temp_exp_profissional = []\n",
    "for indice in tqdm(df_com_indicios.index):\n",
    "    if df_com_indicios['garantia_cs_ou_pl'][indice] == 1 and df_com_indicios.iloc[indice, 1:].sum() == 1:\n",
    "        indices_garantia_cs_ou_pl.append(indice)\n",
    "    elif df_com_indicios['temp_exp_profissional'][indice] == 1 and df_com_indicios.iloc[indice, 1:].sum() == 1:\n",
    "        indices_temp_exp_profissional.append(indice)"
   ]
  },
  {
   "cell_type": "code",
   "execution_count": null,
   "metadata": {},
   "outputs": [],
   "source": [
    "len(indices_garantia_cs_ou_pl), len(indices_temp_exp_profissional)"
   ]
  },
  {
   "cell_type": "code",
   "execution_count": null,
   "metadata": {},
   "outputs": [],
   "source": [
    "import random\n",
    "\n",
    "indices_garantia_cs_ou_pl_drop = random.sample(indices_garantia_cs_ou_pl, 2100)\n",
    "indices_temp_exp_profissional_drop = random.sample(indices_temp_exp_profissional, 800)\n",
    "print(len(indices_garantia_cs_ou_pl_drop), len(indices_temp_exp_profissional_drop))"
   ]
  },
  {
   "cell_type": "code",
   "execution_count": null,
   "metadata": {},
   "outputs": [],
   "source": [
    "df_com_indicios.drop(index=indices_garantia_cs_ou_pl_drop, inplace=True)\n",
    "df_com_indicios.drop(index=indices_temp_exp_profissional_drop, inplace=True)\n",
    "df_com_indicios.reset_index(drop=True, inplace=True)\n",
    "df_com_indicios"
   ]
  },
  {
   "cell_type": "code",
   "execution_count": null,
   "metadata": {},
   "outputs": [],
   "source": [
    "indicios_presentes"
   ]
  },
  {
   "cell_type": "code",
   "execution_count": null,
   "metadata": {},
   "outputs": [],
   "source": [
    "df_com_indicios.drop(columns=['text']).sum()"
   ]
  },
  {
   "cell_type": "code",
   "execution_count": null,
   "metadata": {},
   "outputs": [],
   "source": [
    "df_com_indicios.to_csv('/var/projetos/Jupyterhubstorage/victor.silva/HelBERTModel/Datasets/Indicios/DatasetsWeak/DataAugmentation/BackTranslateRevisado/df_com_indicios_balanceado.csv', index=False)"
   ]
  },
  {
   "cell_type": "markdown",
   "metadata": {},
   "source": [
    "#### Limpeza do dataset de indícios"
   ]
  },
  {
   "cell_type": "code",
   "execution_count": null,
   "metadata": {},
   "outputs": [],
   "source": [
    "dados = pd.read_csv('/var/projetos/Jupyterhubstorage/victor.silva/HelBERTModel/Datasets/Indicios/DatasetsWeak/DataAugmentation/BackTranslateRevisado/df_com_indicios_balanceado.csv')\n",
    "dados"
   ]
  },
  {
   "cell_type": "code",
   "execution_count": null,
   "metadata": {},
   "outputs": [],
   "source": [
    "dataset_limpo = executaLimpeza(dados, 'text', False, False)\n",
    "dataset_limpo   "
   ]
  },
  {
   "cell_type": "code",
   "execution_count": null,
   "metadata": {},
   "outputs": [],
   "source": [
    "df_com_indicios.columns"
   ]
  },
  {
   "cell_type": "code",
   "execution_count": null,
   "metadata": {},
   "outputs": [],
   "source": [
    "dados.to_csv('/var/projetos/Jupyterhubstorage/victor.silva/HelBERTModel/Datasets/Indicios/DatasetsWeak/DataAugmentation/BackTranslateRevisado/df_com_indicios_balanceado_limpo.csv', index=False)"
   ]
  },
  {
   "cell_type": "markdown",
   "metadata": {},
   "source": [
    "### Adição de amostras de outros datasets"
   ]
  },
  {
   "cell_type": "markdown",
   "metadata": {},
   "source": [
    "#### Dataset Gold"
   ]
  },
  {
   "cell_type": "code",
   "execution_count": null,
   "metadata": {},
   "outputs": [],
   "source": [
    "dados_gold = load_dataset(\"csv\", data_files=\"/var/projetos/Jupyterhubstorage/victor.silva/HelBERTModel/Datasets/Indicios/DatasetsRaw/dataset_indicios_gold_raw.csv\")\n",
    "dados_gold = pd.DataFrame(dados_gold['train'])\n",
    "dados_gold"
   ]
  },
  {
   "cell_type": "code",
   "execution_count": null,
   "metadata": {},
   "outputs": [],
   "source": [
    "colunas_desejadas = [\n",
    "    'text', 'garantia_cs_ou_pl', 'carta_credenciamento',\n",
    "    'filiacao_abav_iata', 'temp_exp_profissional', 'atestado_regularizacao',\n",
    "    'atestado_carga', 'certidao_protesto', 'certificado_boas_praticas',\n",
    "    'comprovante_localizacao', 'idoneidade_financeira', 'integralizado',\n",
    "    'licenca_ambiental', 'n_min_max_limitacao_atestados'\n",
    "]\n",
    "\n",
    "# Adicionar as colunas que estão faltando e garantir que todas as colunas estejam na sequência correta\n",
    "for coluna in colunas_desejadas:\n",
    "    if coluna not in dados_gold.columns:\n",
    "        dados_gold[coluna] = 0\n",
    "\n",
    "# Reordenar as colunas de acordo com colunas_desejadas\n",
    "dados_gold = dados_gold[colunas_desejadas]\n",
    "dados_gold"
   ]
  },
  {
   "cell_type": "code",
   "execution_count": null,
   "metadata": {},
   "outputs": [],
   "source": [
    "for indice in tqdm(dados_gold.index):\n",
    "    for column in dados_gold.columns[1:7]:\n",
    "        if re.search(exp.expressoes[column], dados_gold['text'][indice]):\n",
    "            dados_gold.loc[indice, column] = 1\n",
    "dados_gold"
   ]
  },
  {
   "cell_type": "code",
   "execution_count": null,
   "metadata": {},
   "outputs": [],
   "source": [
    "dados_gold.drop(columns=['text']).sum()"
   ]
  },
  {
   "cell_type": "code",
   "execution_count": null,
   "metadata": {},
   "outputs": [],
   "source": [
    "dados_gold = executaLimpeza(dados_gold, 'text', False, False)\n",
    "dados_gold"
   ]
  },
  {
   "cell_type": "code",
   "execution_count": null,
   "metadata": {},
   "outputs": [],
   "source": [
    "dados_gold.to_csv(\"/var/projetos/Jupyterhubstorage/victor.silva/HelBERTModel/Datasets/Indicios/DatasetsWeak/DataAugmentation/BackTranslateRevisado/dados_gold_limpo_14_indicios.csv\", index=False)"
   ]
  },
  {
   "cell_type": "markdown",
   "metadata": {},
   "source": [
    "#### Dataset weak sem indícios"
   ]
  },
  {
   "cell_type": "code",
   "execution_count": null,
   "metadata": {},
   "outputs": [],
   "source": [
    "dados_raw = load_dataset(\"tcepi/bidCorpus_raw\", \"bid_corpus_raw\", token=token)\n",
    "dados_raw = pd.DataFrame(dados_raw['train']['HABILITACAO'], columns=['text'])\n",
    "dados_raw.drop_duplicates(subset=['text'], inplace=True)\n",
    "dados_raw.dropna(subset=['text'], inplace=True)\n",
    "dados_raw.reset_index(drop=True, inplace=True)\n",
    "dados_raw"
   ]
  },
  {
   "cell_type": "code",
   "execution_count": null,
   "metadata": {},
   "outputs": [],
   "source": [
    "columns_to_add = [\n",
    "    'garantia_cs_ou_pl', 'carta_credenciamento', 'filiacao_abav_iata',\n",
    "    'temp_exp_profissional',\n",
    "    'atestado_regularizacao', 'atestado_carga', 'certidao_protesto',\n",
    "    'certificado_boas_praticas', 'comprovante_localizacao',\n",
    "    'idoneidade_financeira', 'integralizado', 'licenca_ambiental',\n",
    "    'n_min_max_limitacao_atestados'\n",
    "]\n",
    "\n",
    "for column in columns_to_add:\n",
    "    dados_raw[column] = 0\n",
    "\n",
    "dados_raw"
   ]
  },
  {
   "cell_type": "code",
   "execution_count": null,
   "metadata": {},
   "outputs": [],
   "source": [
    "dados_raw = dados_raw.sample(n=2000)\n",
    "dados_raw.reset_index(drop=True, inplace=True)\n",
    "dados_raw"
   ]
  },
  {
   "cell_type": "code",
   "execution_count": null,
   "metadata": {},
   "outputs": [],
   "source": [
    "for indice in tqdm(dados_raw.index):\n",
    "    for column in dados_raw.columns[1:]:\n",
    "        if re.search(exp.expressoes[column], dados_raw['text'][indice]):\n",
    "            dados_raw.loc[indice, column] = 1\n",
    "dados_raw"
   ]
  },
  {
   "cell_type": "code",
   "execution_count": null,
   "metadata": {},
   "outputs": [],
   "source": [
    "rows_to_add = []\n",
    "for indice in tqdm(dados_raw.index):\n",
    "    if dados_raw.iloc[indice, 1:].sum() == 0:\n",
    "        rows_to_add.append(dados_raw.loc[indice])\n",
    "df_add = pd.DataFrame(rows_to_add)\n",
    "df_add"
   ]
  },
  {
   "cell_type": "code",
   "execution_count": null,
   "metadata": {},
   "outputs": [],
   "source": [
    "df_add.drop_duplicates(subset=['text'], inplace=True)\n",
    "df_add.dropna(subset=['text'], inplace=True)\n",
    "df_add = df_add.sample(n=1000)\n",
    "df_add.reset_index(drop=True, inplace=True)\n",
    "df_add"
   ]
  },
  {
   "cell_type": "code",
   "execution_count": null,
   "metadata": {},
   "outputs": [],
   "source": [
    "df_add = executaLimpeza(df_add, 'text', False, False)\n",
    "df_add"
   ]
  },
  {
   "cell_type": "code",
   "execution_count": null,
   "metadata": {},
   "outputs": [],
   "source": [
    "df_add.to_csv(\"/var/projetos/Jupyterhubstorage/victor.silva/HelBERTModel/Datasets/Indicios/DatasetsWeak/DataAugmentation/BackTranslateRevisado/df_sem_indicios.csv\", index=False)"
   ]
  },
  {
   "cell_type": "markdown",
   "metadata": {},
   "source": [
    "### Junção dos datasets (gold, data augmentation, sem indicios)"
   ]
  },
  {
   "cell_type": "code",
   "execution_count": null,
   "metadata": {},
   "outputs": [],
   "source": [
    "gold = pd.read_csv(\"/var/projetos/Jupyterhubstorage/victor.silva/HelBERTModel/Datasets/Indicios/DatasetsWeak/DataAugmentation/BackTranslateRevisado/dados_gold_limpo_14_indicios.csv\")\n",
    "balanceado = pd.read_csv(\"/var/projetos/Jupyterhubstorage/victor.silva/HelBERTModel/Datasets/Indicios/DatasetsWeak/DataAugmentation/BackTranslateRevisado/df_com_indicios_balanceado_limpo.csv\")\n",
    "sem_indicios = pd.read_csv(\"/var/projetos/Jupyterhubstorage/victor.silva/HelBERTModel/Datasets/Indicios/DatasetsWeak/DataAugmentation/BackTranslateRevisado/df_sem_indicios.csv\")"
   ]
  },
  {
   "cell_type": "code",
   "execution_count": null,
   "metadata": {},
   "outputs": [],
   "source": [
    "dados = pd.concat([gold, balanceado, sem_indicios])\n",
    "dados.drop_duplicates(subset=['text'], inplace=True)\n",
    "dados.dropna(subset=['text'], inplace=True)\n",
    "dados.reset_index(drop=True, inplace=True)\n",
    "dados"
   ]
  },
  {
   "cell_type": "code",
   "execution_count": null,
   "metadata": {},
   "outputs": [],
   "source": [
    "dados.drop(columns=['text']).sum()"
   ]
  },
  {
   "cell_type": "code",
   "execution_count": null,
   "metadata": {},
   "outputs": [],
   "source": [
    "dados_teste"
   ]
  },
  {
   "cell_type": "code",
   "execution_count": null,
   "metadata": {},
   "outputs": [],
   "source": [
    "dados.to_csv(\"/var/projetos/Jupyterhubstorage/victor.silva/HelBERTModel/Datasets/Indicios/DatasetsWeak/DataAugmentation/BackTranslateRevisado/df_unificado_final.csv\", index=False)"
   ]
  },
  {
   "cell_type": "markdown",
   "metadata": {},
   "source": [
    "### Convertendo em dataset_dict e mandando pro huggingface"
   ]
  },
  {
   "cell_type": "code",
   "execution_count": null,
   "metadata": {},
   "outputs": [],
   "source": [
    "train = pd.read_csv(\"/var/projetos/Jupyterhubstorage/victor.silva/HelBERTModel/Datasets/Indicios/DatasetsWeak/DataAugmentation/BackTranslateRevisado/df_unificado_final.csv\")\n",
    "teste = load_dataset(\"tcepi/bidCorpus_14_indicios\", token=token)['test']"
   ]
  },
  {
   "cell_type": "code",
   "execution_count": null,
   "metadata": {},
   "outputs": [],
   "source": [
    "teste = pd.DataFrame(teste)\n",
    "teste"
   ]
  },
  {
   "cell_type": "code",
   "execution_count": null,
   "metadata": {},
   "outputs": [],
   "source": [
    "teste = executaLimpeza(teste, 'text', False, False)\n",
    "teste"
   ]
  },
  {
   "cell_type": "code",
   "execution_count": null,
   "metadata": {},
   "outputs": [],
   "source": [
    "indices_drop = []\n",
    "for indice in tqdm(train.index):\n",
    "    if not isinstance(train['text'][indice], str):\n",
    "        indices_drop.append(indice)\n",
    "train.drop(index=indices_drop, inplace=True)\n",
    "\n",
    "train.dropna(subset=['text'], inplace=True)\n",
    "train.drop_duplicates(subset=['text'], inplace=True)\n",
    "train.reset_index(drop=True, inplace=True)\n",
    "\n",
    "indices_drop = []\n",
    "for indice in tqdm(teste.index):\n",
    "    if not isinstance(teste['text'][indice], str):\n",
    "        indices_drop.append(indice)\n",
    "teste.drop(index=indices_drop, inplace=True)\n",
    "\n",
    "teste.dropna(subset=['text'], inplace=True)\n",
    "teste.drop_duplicates(subset=['text'], inplace=True)\n",
    "teste.reset_index(drop=True, inplace=True)\n",
    "\n",
    "print(train.shape, teste.shape)"
   ]
  },
  {
   "cell_type": "code",
   "execution_count": null,
   "metadata": {},
   "outputs": [],
   "source": [
    "train.drop(columns=['text']).sum()"
   ]
  },
  {
   "cell_type": "code",
   "execution_count": null,
   "metadata": {},
   "outputs": [],
   "source": [
    "teste.drop(columns=['contratacao_visto_registro_profissional'], inplace=True)\n",
    "teste"
   ]
  },
  {
   "cell_type": "code",
   "execution_count": null,
   "metadata": {},
   "outputs": [],
   "source": [
    "train = Dataset.from_pandas(train)\n",
    "teste = Dataset.from_pandas(teste)"
   ]
  },
  {
   "cell_type": "code",
   "execution_count": null,
   "metadata": {},
   "outputs": [],
   "source": [
    "dict_dataset = DatasetDict({\n",
    "    'train': train,\n",
    "    'test': teste,\n",
    "})\n",
    "dict_dataset"
   ]
  },
  {
   "cell_type": "code",
   "execution_count": null,
   "metadata": {},
   "outputs": [],
   "source": [
    "dict_dataset.push_to_hub(\"tcepi/bidCorpus_14_indicios_revisado\", token=\"\")"
   ]
  },
  {
   "cell_type": "markdown",
   "metadata": {},
   "source": [
    "### Buscando a proporção de indícios no dataset original"
   ]
  },
  {
   "cell_type": "code",
   "execution_count": null,
   "metadata": {},
   "outputs": [],
   "source": [
    "dados_raw = load_dataset(\"tcepi/bidCorpus_raw\", \"bid_corpus_raw\", token=token)\n",
    "dados_raw = pd.DataFrame(dados_raw['train']['HABILITACAO'], columns=['text'])\n",
    "dados_raw.drop_duplicates(subset=['text'], inplace=True)\n",
    "dados_raw.dropna(subset=['text'], inplace=True)\n",
    "dados_raw.reset_index(drop=True, inplace=True)\n",
    "dados_raw"
   ]
  },
  {
   "cell_type": "code",
   "execution_count": null,
   "metadata": {},
   "outputs": [],
   "source": [
    "columns_to_add = [\n",
    "    'garantia_cs_ou_pl', 'carta_credenciamento', 'filiacao_abav_iata',\n",
    "    'temp_exp_profissional',\n",
    "    'atestado_regularizacao', 'atestado_carga', 'certidao_protesto',\n",
    "    'certificado_boas_praticas', 'comprovante_localizacao',\n",
    "    'idoneidade_financeira', 'integralizado', 'licenca_ambiental',\n",
    "    'n_min_max_limitacao_atestados'\n",
    "]\n",
    "\n",
    "for column in columns_to_add:\n",
    "    dados_raw[column] = 0\n",
    "\n",
    "dados_raw"
   ]
  },
  {
   "cell_type": "code",
   "execution_count": null,
   "metadata": {},
   "outputs": [],
   "source": [
    "def process_row(row):\n",
    "    for name_expression, expression in exp.expressoes.items():\n",
    "        if re.search(expression, row['text']):\n",
    "            row[name_expression] = 1\n",
    "    return row"
   ]
  },
  {
   "cell_type": "code",
   "execution_count": null,
   "metadata": {},
   "outputs": [],
   "source": [
    "pandarallel.initialize(progress_bar=True)"
   ]
  },
  {
   "cell_type": "code",
   "execution_count": null,
   "metadata": {},
   "outputs": [],
   "source": [
    "dados_raw = dados_raw.parallel_apply(process_row, axis=1)\n",
    "dados_raw"
   ]
  },
  {
   "cell_type": "code",
   "execution_count": null,
   "metadata": {},
   "outputs": [],
   "source": [
    "dados_raw.drop(columns=['text']).sum()"
   ]
  },
  {
   "cell_type": "code",
   "execution_count": null,
   "metadata": {},
   "outputs": [],
   "source": [
    "lista_sem_indicios = []\n",
    "for indice in tqdm(dados_raw.index):\n",
    "    if dados_raw.iloc[indice, 1:].sum() == 0:\n",
    "        lista_sem_indicios.append(indice)"
   ]
  },
  {
   "cell_type": "code",
   "execution_count": null,
   "metadata": {},
   "outputs": [],
   "source": [
    "len(lista_sem_indicios)"
   ]
  },
  {
   "cell_type": "code",
   "execution_count": null,
   "metadata": {},
   "outputs": [],
   "source": [
    "print(len(lista_sem_indicios)/len(dados_raw))"
   ]
  },
  {
   "cell_type": "code",
   "execution_count": null,
   "metadata": {},
   "outputs": [],
   "source": [
    "df_sem_indicios = pd.DataFrame(dados_raw.loc[lista_sem_indicios])\n",
    "df_sem_indicios.reset_index(drop=True, inplace=True)\n",
    "df_sem_indicios"
   ]
  },
  {
   "cell_type": "code",
   "execution_count": null,
   "metadata": {},
   "outputs": [],
   "source": [
    "sem_indicios_df_total = df_sem_indicios.sample(n=13000)\n",
    "sem_indicios_df_total.reset_index(drop=True, inplace=True)\n",
    "sem_indicios_df_total"
   ]
  },
  {
   "cell_type": "code",
   "execution_count": null,
   "metadata": {},
   "outputs": [],
   "source": [
    "sem_indicios_df_total = executaLimpeza(sem_indicios_df_total, 'text', False, False)\n",
    "sem_indicios_df_total"
   ]
  },
  {
   "cell_type": "code",
   "execution_count": null,
   "metadata": {},
   "outputs": [],
   "source": [
    "sem_indicios_df_total.to_csv(\"/var/projetos/Jupyterhubstorage/victor.silva/HelBERTModel/Datasets/Indicios/DatasetsWeak/DataAugmentation/BackTranslateRevisado/df_sem_indicios.csv\", index=False)"
   ]
  },
  {
   "cell_type": "markdown",
   "metadata": {},
   "source": [
    "### Juntando com o df final"
   ]
  },
  {
   "cell_type": "code",
   "execution_count": null,
   "metadata": {},
   "outputs": [],
   "source": [
    "dados_final = pd.read_csv(\"/var/projetos/Jupyterhubstorage/victor.silva/HelBERTModel/Datasets/Indicios/DatasetsWeak/DataAugmentation/BackTranslateRevisado/df_unificado_final.csv\")\n",
    "dados_final"
   ]
  },
  {
   "cell_type": "code",
   "execution_count": null,
   "metadata": {},
   "outputs": [],
   "source": [
    "dados = pd.concat([dados_final, sem_indicios_df_total])\n",
    "dados.drop_duplicates(subset=['text'], inplace=True)\n",
    "dados.dropna(subset=['text'], inplace=True)\n",
    "dados.reset_index(drop=True, inplace=True)\n",
    "dados"
   ]
  },
  {
   "cell_type": "code",
   "execution_count": null,
   "metadata": {},
   "outputs": [],
   "source": [
    "dados.to_csv(\"/var/projetos/Jupyterhubstorage/victor.silva/HelBERTModel/Datasets/Indicios/DatasetsWeak/DataAugmentation/BackTranslateRevisado/df_unificado_final.csv\", index=False)"
   ]
  }
 ],
 "metadata": {
  "kernelspec": {
   "display_name": "Python 3",
   "language": "python",
   "name": "python3"
  },
  "language_info": {
   "codemirror_mode": {
    "name": "ipython",
    "version": 3
   },
   "file_extension": ".py",
   "mimetype": "text/x-python",
   "name": "python",
   "nbconvert_exporter": "python",
   "pygments_lexer": "ipython3",
   "version": "3.8.10"
  }
 },
 "nbformat": 4,
 "nbformat_minor": 2
}
