{
 "cells": [
  {
   "cell_type": "code",
   "execution_count": null,
   "metadata": {},
   "outputs": [],
   "source": [
    "import pandas as pd\n",
    "import matplotlib.pyplot as plt"
   ]
  },
  {
   "cell_type": "code",
   "execution_count": null,
   "metadata": {},
   "outputs": [],
   "source": [
    "original = pd.read_csv(\"/var/projetos/Jupyterhubstorage/victor.silva/HelBERTModel/Datasets/Indicios/DatasetsWeak/DataAugmentation/BackTranslateNovosIndicios/somente_indicios_acima_100_14_indicios_cleaned_original.csv\")\n",
    "original"
   ]
  },
  {
   "cell_type": "code",
   "execution_count": null,
   "metadata": {},
   "outputs": [],
   "source": [
    "# mostrar o value counts de cada coluna\n",
    "for col in original.columns[1:]:\n",
    "    print(original[col].value_counts())\n",
    "    print(\"\\n \\n\")"
   ]
  },
  {
   "cell_type": "code",
   "execution_count": null,
   "metadata": {},
   "outputs": [],
   "source": [
    "back_translated_1 = pd.read_csv(\"/var/projetos/Jupyterhubstorage/victor.silva/HelBERTModel/Datasets/Indicios/DatasetsWeak/DataAugmentation/BackTranslateNovosIndicios/data_back_translated_acima_100_14_indicios-1.csv\")\n",
    "back_translated_2 = pd.read_csv(\"/var/projetos/Jupyterhubstorage/victor.silva/HelBERTModel/Datasets/Indicios/DatasetsWeak/DataAugmentation/BackTranslateNovosIndicios/data_back_translated_acima_100_14_indicios-2.csv\")\n",
    "back_translated_3 = pd.read_csv(\"/var/projetos/Jupyterhubstorage/victor.silva/HelBERTModel/Datasets/Indicios/DatasetsWeak/DataAugmentation/BackTranslateNovosIndicios/data_back_translated_acima_100_14_indicios-3.csv\")\n",
    "back_translated_4 = pd.read_csv(\"/var/projetos/Jupyterhubstorage/victor.silva/HelBERTModel/Datasets/Indicios/DatasetsWeak/DataAugmentation/BackTranslateNovosIndicios/data_back_translated_acima_100_14_indicios-4.csv\")\n",
    "back_translated_5 = pd.read_csv(\"/var/projetos/Jupyterhubstorage/victor.silva/HelBERTModel/Datasets/Indicios/DatasetsWeak/DataAugmentation/BackTranslateNovosIndicios/data_back_translated_acima_100_14_indicios-5.csv\")"
   ]
  },
  {
   "cell_type": "code",
   "execution_count": null,
   "metadata": {},
   "outputs": [],
   "source": [
    "back_translated = pd.concat([back_translated_1, back_translated_2, back_translated_3, back_translated_4, back_translated_5], ignore_index=True)\n",
    "back_translated"
   ]
  },
  {
   "cell_type": "code",
   "execution_count": null,
   "metadata": {},
   "outputs": [],
   "source": [
    "back_translated.drop_duplicates(subset=['text'], keep='first', inplace=True)\n",
    "back_translated.reset_index(drop=True, inplace=True)\n",
    "back_translated"
   ]
  },
  {
   "cell_type": "code",
   "execution_count": null,
   "metadata": {},
   "outputs": [],
   "source": [
    "# mover a ultima coluna do dataframe para a segunda coluna.\n",
    "ultima_col = back_translated.columns[-1]\n",
    "back_translated.insert(1, ultima_col, back_translated.pop(ultima_col))\n",
    "back_translated"
   ]
  },
  {
   "cell_type": "code",
   "execution_count": null,
   "metadata": {},
   "outputs": [],
   "source": [
    "original_14_indicios = back_translated.drop(columns=['back_translated'])\n",
    "original_14_indicios"
   ]
  },
  {
   "cell_type": "code",
   "execution_count": null,
   "metadata": {},
   "outputs": [],
   "source": [
    "back_translated = back_translated.drop(columns=['text'])\n",
    "back_translated"
   ]
  },
  {
   "cell_type": "code",
   "execution_count": null,
   "metadata": {},
   "outputs": [],
   "source": [
    "back_translated.to_csv(\"/var/projetos/Jupyterhubstorage/victor.silva/HelBERTModel/Datasets/Indicios/DatasetsWeak/DataAugmentation/BackTranslateNovosIndicios/data_back_translated_acima_100_14_indicios_total.csv\", index=False)\n",
    "original_14_indicios.to_csv(\"/var/projetos/Jupyterhubstorage/victor.silva/HelBERTModel/Datasets/Indicios/DatasetsWeak/DataAugmentation/BackTranslateNovosIndicios/original_14_indicios_total.csv\", index=False)"
   ]
  },
  {
   "cell_type": "code",
   "execution_count": null,
   "metadata": {},
   "outputs": [],
   "source": [
    "back_translated.to_csv(\"/var/projetos/Jupyterhubstorage/victor.silva/HelBERTModel/Datasets/Indicios/DatasetsWeak/DataAugmentation/BackTranslateNovosIndicios/data_back_translated_acima_100_14_indicios_total.csv\", index=False)"
   ]
  },
  {
   "cell_type": "code",
   "execution_count": null,
   "metadata": {},
   "outputs": [],
   "source": [
    "colunas_df = back_translated.iloc[:, 2:]\n",
    "colunas_df"
   ]
  },
  {
   "cell_type": "code",
   "execution_count": null,
   "metadata": {},
   "outputs": [],
   "source": [
    "## Outro original\n",
    "dados_original = pd.read_csv(\"/var/projetos/Jupyterhubstorage/victor.silva/HelBERTModel/Datasets/Indicios/DatasetsWeak/dataset_bid_notices_weak_sup_hab_clean_selected.csv\")\n",
    "dados_original"
   ]
  },
  {
   "cell_type": "code",
   "execution_count": null,
   "metadata": {},
   "outputs": [],
   "source": [
    "colunas_df_original = dados_original.iloc[:, 1:]\n",
    "colunas_df_original"
   ]
  },
  {
   "cell_type": "markdown",
   "metadata": {},
   "source": [
    "### Unindo dfs originais"
   ]
  },
  {
   "cell_type": "code",
   "execution_count": null,
   "metadata": {},
   "outputs": [],
   "source": [
    "df_original_7indicios = pd.read_csv(\"/var/projetos/Jupyterhubstorage/victor.silva/HelBERTModel/Datasets/Indicios/DatasetsWeak/dataset_bid_notices_weak_sup_hab_clean_selected.csv\")\n",
    "df_original_7indicios"
   ]
  },
  {
   "cell_type": "code",
   "execution_count": null,
   "metadata": {},
   "outputs": [],
   "source": [
    "df_original_14_indicios = pd.read_csv(\"/var/projetos/Jupyterhubstorage/victor.silva/HelBERTModel/Datasets/Indicios/DatasetsWeak/DataAugmentation/BackTranslateNovosIndicios/original_14_indicios_total.csv\")\n",
    "df_original_14_indicios"
   ]
  },
  {
   "cell_type": "code",
   "execution_count": null,
   "metadata": {},
   "outputs": [],
   "source": [
    "df_original_completo = pd.concat([df_original_7indicios, df_original_14_indicios], ignore_index=True)\n",
    "df_original_completo.reset_index(drop=True, inplace=True)\n",
    "df_original_completo"
   ]
  },
  {
   "cell_type": "code",
   "execution_count": null,
   "metadata": {},
   "outputs": [],
   "source": [
    "df_original_completo.to_csv(\"/var/projetos/Jupyterhubstorage/victor.silva/HelBERTModel/Datasets/Indicios/DatasetsWeak/DataAugmentation/BackTranslateNovosIndicios/original_14_indicios_com_7_indicios_total.csv\", index=False)"
   ]
  },
  {
   "cell_type": "code",
   "execution_count": null,
   "metadata": {},
   "outputs": [],
   "source": [
    "indices_drop = []\n",
    "for indice in df_original_completo.index:\n",
    "    rotulos = df_original_completo.iloc[indice, 1:].values\n",
    "    if sum(rotulos) == 0:\n",
    "        indices_drop.append(indice)"
   ]
  },
  {
   "cell_type": "code",
   "execution_count": null,
   "metadata": {},
   "outputs": [],
   "source": [
    "df_original_completo.drop(indices_drop, inplace=True)\n",
    "df_original_completo.reset_index(drop=True, inplace=True)\n",
    "df_original_completo"
   ]
  },
  {
   "cell_type": "code",
   "execution_count": null,
   "metadata": {},
   "outputs": [],
   "source": [
    "df_original_completo = pd.read_csv(\"/var/projetos/Jupyterhubstorage/victor.silva/HelBERTModel/Datasets/Indicios/DatasetsWeak/DataAugmentation/BackTranslateNovosIndicios/original_14_indicios_com_7_indicios_total.csv\")\n",
    "df_original_completo"
   ]
  },
  {
   "cell_type": "code",
   "execution_count": null,
   "metadata": {},
   "outputs": [],
   "source": [
    "df_original_completo.to_csv(\"/var/projetos/Jupyterhubstorage/victor.silva/HelBERTModel/Datasets/Indicios/DatasetsWeak/DataAugmentation/BackTranslateNovosIndicios/original_14_indicios_com_7_indicios_total.csv\", index=False)"
   ]
  },
  {
   "cell_type": "markdown",
   "metadata": {},
   "source": [
    "### Carregando o dataset back_translated"
   ]
  },
  {
   "cell_type": "code",
   "execution_count": null,
   "metadata": {},
   "outputs": [],
   "source": [
    "back_translated = pd.read_csv(\"/var/projetos/Jupyterhubstorage/victor.silva/HelBERTModel/Datasets/Indicios/DatasetsWeak/DataAugmentation/BackTranslateNovosIndicios/data_back_translated_acima_100_14_indicios_total.csv\")\n",
    "back_translated"
   ]
  },
  {
   "cell_type": "code",
   "execution_count": null,
   "metadata": {},
   "outputs": [],
   "source": [
    "import pandas as pd\n",
    "from iterstrat.ml_stratifiers import MultilabelStratifiedShuffleSplit\n",
    "\n",
    "# Carregar os datasets\n",
    "original_df = pd.read_csv('/var/projetos/Jupyterhubstorage/victor.silva/HelBERTModel/Datasets/Indicios/DatasetsWeak/DataAugmentation/BackTranslateNovosIndicios/original_14_indicios_com_7_indicios_total.csv')\n",
    "augmented_df = pd.read_csv('/var/projetos/Jupyterhubstorage/victor.silva/HelBERTModel/Datasets/Indicios/DatasetsWeak/DataAugmentation/BackTranslateNovosIndicios/data_back_translated_acima_100_14_indicios_total.csv')\n",
    "\n",
    "# Separar as features e labels\n",
    "X_original = original_df['text']\n",
    "y_original = original_df.drop(columns=['text'])\n",
    "\n",
    "X_augmented = augmented_df['back_translated']\n",
    "y_augmented = augmented_df.drop(columns=['back_translated'])\n",
    "\n",
    "# Verificar a quantidade de dados originais e sintéticos por classe\n",
    "original_class_counts = y_original.sum(axis=0)\n",
    "augmented_class_counts = y_augmented.sum(axis=0)\n",
    "\n",
    "print(\"Contagem de classes no dataset original:\\n\", original_class_counts)\n",
    "print(\"Contagem de classes no dataset sintético:\\n\", augmented_class_counts)\n",
    "\n",
    "# Estratificação iterativa para multilabel\n",
    "msss = MultilabelStratifiedShuffleSplit(n_splits=1, test_size=0.2, random_state=42)\n",
    "\n",
    "# Dividir o dataset original em treino e teste\n",
    "for train_idx, test_idx in msss.split(X_original, y_original):\n",
    "    X_train, X_test = X_original.iloc[train_idx], X_original.iloc[test_idx]\n",
    "    y_train, y_test = y_original.iloc[train_idx], y_original.iloc[test_idx]\n",
    "\n",
    "# Adicionar o dataset sintético ao conjunto de treino\n",
    "X_train = pd.concat([X_train, X_augmented], ignore_index=True)\n",
    "y_train = pd.concat([y_train, y_augmented], ignore_index=True)\n",
    "\n",
    "# Verificar os tamanhos dos conjuntos\n",
    "print(f\"Tamanho do conjunto de treino: {len(X_train)}\")\n",
    "print(f\"Tamanho do conjunto de teste: {len(X_test)}\")"
   ]
  },
  {
   "cell_type": "code",
   "execution_count": null,
   "metadata": {},
   "outputs": [],
   "source": [
    "train = y_train.insert(0, 'text', X_train)\n",
    "test = y_test.insert(0, 'text', X_test)\n",
    "train"
   ]
  },
  {
   "cell_type": "code",
   "execution_count": null,
   "metadata": {},
   "outputs": [],
   "source": [
    "y_test.drop_duplicates(subset=['text'], keep='first', inplace=True)\n",
    "y_test.reset_index(drop=True, inplace=True)\n",
    "y_train.drop_duplicates(subset=['text'], keep='first', inplace=True)\n",
    "y_train.reset_index(drop=True, inplace=True)"
   ]
  },
  {
   "cell_type": "code",
   "execution_count": null,
   "metadata": {},
   "outputs": [],
   "source": [
    "y_train.to_csv(\"/var/projetos/Jupyterhubstorage/victor.silva/HelBERTModel/Datasets/Indicios/DatasetsWeak/DataAugmentation/BackTranslateNovosIndicios/treino_14_indicios_com_7_indicios_total.csv\", index=False)\n",
    "y_test.to_csv(\"/var/projetos/Jupyterhubstorage/victor.silva/HelBERTModel/Datasets/Indicios/DatasetsWeak/DataAugmentation/BackTranslateNovosIndicios/teste_14_indicios_com_7_indicios_total.csv\", index=False)"
   ]
  }
 ],
 "metadata": {
  "kernelspec": {
   "display_name": "Python 3",
   "language": "python",
   "name": "python3"
  },
  "language_info": {
   "codemirror_mode": {
    "name": "ipython",
    "version": 3
   },
   "file_extension": ".py",
   "mimetype": "text/x-python",
   "name": "python",
   "nbconvert_exporter": "python",
   "pygments_lexer": "ipython3",
   "version": "3.8.10"
  }
 },
 "nbformat": 4,
 "nbformat_minor": 2
}
