{
 "cells": [
  {
   "cell_type": "code",
   "execution_count": null,
   "metadata": {},
   "outputs": [],
   "source": [
    "import pandas as pd\n",
    "from datasets import load_dataset, load_from_disk, DatasetDict"
   ]
  },
  {
   "cell_type": "markdown",
   "metadata": {},
   "source": [
    "## Mandando pro huggingface"
   ]
  },
  {
   "cell_type": "code",
   "execution_count": null,
   "metadata": {},
   "outputs": [],
   "source": [
    "dados = load_dataset(\"tcepi/bidCorpus\", \"bidCorpus_sections_type\")"
   ]
  },
  {
   "cell_type": "code",
   "execution_count": null,
   "metadata": {},
   "outputs": [],
   "source": [
    "dados"
   ]
  },
  {
   "cell_type": "code",
   "execution_count": null,
   "metadata": {},
   "outputs": [],
   "source": [
    "dataset = load_dataset('csv', data_files=\"/var/projetos/Jupyterhubstorage/victor.silva/HelBERTModel/Datasets/DatasetsHf/dataset_syntetic_hab.csv\", split='train')\n",
    "dataset"
   ]
  },
  {
   "cell_type": "code",
   "execution_count": null,
   "metadata": {},
   "outputs": [],
   "source": [
    "train_test_split = dataset.train_test_split(test_size=0.2)"
   ]
  },
  {
   "cell_type": "code",
   "execution_count": null,
   "metadata": {},
   "outputs": [],
   "source": [
    "train_dataset = train_test_split['train']\n",
    "test_valid_dataset = train_test_split['test']\n",
    "\n",
    "test_valid_split = test_valid_dataset.train_test_split(test_size=0.5)\n",
    "test_dataset = test_valid_split['test']\n",
    "valid_dataset = test_valid_split['train']\n",
    "\n",
    "dataset_dict = DatasetDict({\n",
    "    'train': train_dataset,\n",
    "    'test': test_dataset,\n",
    "    'validation': valid_dataset\n",
    "})\n",
    "\n",
    "print(dataset_dict)"
   ]
  },
  {
   "cell_type": "code",
   "execution_count": null,
   "metadata": {},
   "outputs": [],
   "source": [
    "dataset_dict.save_to_disk(\"/var/projetos/Jupyterhubstorage/victor.silva/HelBERTModel/Datasets/DatasetsHf/bidCorpus_synthetic\")"
   ]
  },
  {
   "cell_type": "code",
   "execution_count": null,
   "metadata": {},
   "outputs": [],
   "source": [
    "train_test_split = dataset['train'].train_test_split(test_size=0.2)\n",
    "train_dataset = train_test_split['train']\n",
    "test_valid_dataset = train_test_split['test']\n",
    "\n",
    "# Dividir o conjunto teste+validação em teste (50%) e validação (50%)\n",
    "test_valid_split = test_valid_dataset.train_test_split(test_size=0.5)\n",
    "test_dataset = test_valid_split['test']\n",
    "valid_dataset = test_valid_split['train']\n",
    "\n",
    "# Reunir os conjuntos em um DatasetDict\n",
    "dataset_dict = DatasetDict({\n",
    "    'train': train_dataset,\n",
    "    'test': test_dataset,\n",
    "    'validation': valid_dataset\n",
    "})\n",
    "\n",
    "# Exibir a estrutura do DatasetDict\n",
    "print(dataset_dict)"
   ]
  },
  {
   "cell_type": "code",
   "execution_count": null,
   "metadata": {},
   "outputs": [],
   "source": [
    "dataset_dict.save_to_disk(\"/var/projetos/Jupyterhubstorage/victor.silva/HelBERTModel/Datasets/DatasetsHf/bidCorpus_synthetic\")"
   ]
  },
  {
   "cell_type": "code",
   "execution_count": null,
   "metadata": {},
   "outputs": [],
   "source": [
    "from datasets import load_from_disk\n",
    "\n",
    "#dataset_raw = load_from_disk(\"/var/projetos/Jupyterhubstorage/victor.silva/HelBERTModel/Datasets/DatasetsHf/bid_corpus_raw\")\n",
    "#bid_corpus_gold = load_from_disk(\"/var/projetos/Jupyterhubstorage/victor.silva/HelBERTModel/Datasets/DatasetsHf/bidCorpus_gold\")\n",
    "#bid_corpus_keyphrase = load_from_disk('/var/projetos/Jupyterhubstorage/victor.silva/HelBERTModel/Datasets/DatasetsHf/bidCorpus_NER_keyphrase')\n",
    "#bid_corpus_similarity = load_from_disk('/var/projetos/Jupyterhubstorage/victor.silva/HelBERTModel/Datasets/DatasetsHf/bidCorpus_object_similarity')\n",
    "#bid_correct_allowed = load_from_disk('/var/projetos/Jupyterhubstorage/victor.silva/HelBERTModel/Datasets/DatasetsHf/bidCorpus_objects_correct_allowed')\n",
    "#bid_corpus_object_type = load_from_disk(\"/var/projetos/Jupyterhubstorage/victor.silva/HelBERTModel/Datasets/DatasetsHf/bidCorpus_objects_type\")\n",
    "#bid_corpus_qual_model = load_from_disk(\"/var/projetos/Jupyterhubstorage/victor.silva/HelBERTModel/Datasets/DatasetsHf/bidCorpus_qual_model\")\n",
    "#bid_corpus_weak_sup = load_from_disk(\"/var/projetos/Jupyterhubstorage/victor.silva/HelBERTModel/Datasets/DatasetsHf/bidCorpus_qual_weak_sup\")\n",
    "#bidCorpus_sections_type = load_from_disk(\"/var/projetos/Jupyterhubstorage/victor.silva/HelBERTModel/Datasets/DatasetsHf/bidCorpus_sections_type\")\n",
    "bidCorpus_synthetic = load_from_disk(\"/var/projetos/Jupyterhubstorage/victor.silva/HelBERTModel/Datasets/DatasetsHf/bidCorpus_synthetic\")\n",
    "\n",
    "\n",
    "\n",
    "# dataset_raw.push_to_hub(repo_name, \"bid_corpus_raw\", token=token)\n",
    "# bid_corpus_gold.push_to_hub(repo_name, \"bidCorpus_gold\", token=token)\n",
    "# bid_corpus_keyphrase.push_to_hub(repo_name, \"bidCorpus_NER_keyphrase\", token=token)\n",
    "# bid_corpus_similarity.push_to_hub(repo_name, \"bidCorpus_object_similarity\", token=token)\n",
    "# bid_correct_allowed.push_to_hub(repo_name, \"bidCorpus_objects_correct_allowed\", token=token)\n",
    "# bid_corpus_object_type.push_to_hub(repo_name, \"bidCorpus_objects_type\", token=token)\n",
    "# bid_corpus_qual_model.push_to_hub(repo_name, \"bidCorpus_qual_model\", token=token)\n",
    "# bid_corpus_weak_sup.push_to_hub(repo_name, \"bidCorpus_qual_weak_sup\", token=token)\n",
    "# bidCorpus_sections_type.push_to_hub(repo_name, \"bidCorpus_sections_type\", token=token)\n",
    "bidCorpus_synthetic.push_to_hub(repo_name, \"bidCorpus_synthetic\", token=token)"
   ]
  },
  {
   "cell_type": "code",
   "execution_count": null,
   "metadata": {},
   "outputs": [],
   "source": [
    "from transformers import AutoModel, AutoTokenizer"
   ]
  },
  {
   "cell_type": "code",
   "execution_count": null,
   "metadata": {},
   "outputs": [],
   "source": [
    "modelo = AutoModel.from_pretrained(\"/var/projetos/Jupyterhubstorage/victor.silva/HelBERTModel/Modelos/PreTreinamento/distilHelBERT-base\")\n",
    "tokenizador = AutoTokenizer.from_pretrained(\"/var/projetos/Jupyterhubstorage/victor.silva/HelBERTModel/Modelos/PreTreinamento/distilHelBERT-base\")"
   ]
  },
  {
   "cell_type": "code",
   "execution_count": null,
   "metadata": {},
   "outputs": [],
   "source": [
    "modelo.push_to_hub(\"tcepi/distilHelBERT\", token=token)\n",
    "tokenizador.push_to_hub(\"tcepi/distilHelBERT\", token=token)"
   ]
  },
  {
   "cell_type": "markdown",
   "metadata": {},
   "source": [
    "## Teste da base de dados"
   ]
  },
  {
   "cell_type": "code",
   "execution_count": null,
   "metadata": {},
   "outputs": [],
   "source": [
    "from datasets import load_dataset"
   ]
  },
  {
   "cell_type": "code",
   "execution_count": null,
   "metadata": {},
   "outputs": [],
   "source": [
    "dataset = load_dataset(\"tcepi/bidCorpus_raw\", \"bid_corpus_raw\")\n",
    "dataset"
   ]
  },
  {
   "cell_type": "code",
   "execution_count": null,
   "metadata": {},
   "outputs": [],
   "source": [
    "print(dataset['train'][1]['CREDENCIAMENTO'])"
   ]
  },
  {
   "cell_type": "code",
   "execution_count": null,
   "metadata": {},
   "outputs": [],
   "source": [
    "\"certidao_protesto\": 0, \"certificado_boas_praticas\": 0, \"comprovante_localizacao\": 0, \"idoneidade_financeira\": 0, \"integralizado\": 0, \"licenca_ambiental\": 0, \"n_min_max_limitacao_atestados\": 0"
   ]
  },
  {
   "cell_type": "markdown",
   "metadata": {},
   "source": [
    "## Dataset to csv raw"
   ]
  },
  {
   "cell_type": "code",
   "execution_count": null,
   "metadata": {},
   "outputs": [],
   "source": [
    "from datasets import load_dataset"
   ]
  },
  {
   "cell_type": "code",
   "execution_count": null,
   "metadata": {},
   "outputs": [],
   "source": [
    "dir_datasets = \"/var/projetos/Jupyterhubstorage/victor.silva/HelBERTModel/Datasets/hf_raw\""
   ]
  },
  {
   "cell_type": "code",
   "execution_count": null,
   "metadata": {},
   "outputs": [],
   "source": [
    "dataset_name = \"bid_corpus_raw\""
   ]
  },
  {
   "cell_type": "code",
   "execution_count": null,
   "metadata": {},
   "outputs": [],
   "source": [
    "dataset = load_dataset(\"tcepi/bidCorpus\", dataset_name)\n",
    "dataset"
   ]
  },
  {
   "cell_type": "code",
   "execution_count": null,
   "metadata": {},
   "outputs": [],
   "source": [
    "dataset.push_to_hub(repo_name, \"bidCorpus_raw\", token=token)"
   ]
  },
  {
   "cell_type": "code",
   "execution_count": null,
   "metadata": {},
   "outputs": [],
   "source": [
    "dataset['train'].to_csv(f\"{dir_datasets}/{dataset_name}/train.csv\")\n",
    "dataset['test'].to_csv(f\"{dir_datasets}/{dataset_name}/test.csv\")\n",
    "dataset['validation'].to_csv(f\"{dir_datasets}/{dataset_name}/validation.csv\")"
   ]
  }
 ],
 "metadata": {
  "kernelspec": {
   "display_name": "venv",
   "language": "python",
   "name": "python3"
  },
  "language_info": {
   "codemirror_mode": {
    "name": "ipython",
    "version": 3
   },
   "file_extension": ".py",
   "mimetype": "text/x-python",
   "name": "python",
   "nbconvert_exporter": "python",
   "pygments_lexer": "ipython3",
   "version": "3.8.10"
  }
 },
 "nbformat": 4,
 "nbformat_minor": 2
}
