{
 "cells": [
  {
   "cell_type": "code",
   "execution_count": null,
   "id": "485b9c4f-f95c-44ff-84f8-95e1278ae421",
   "metadata": {},
   "outputs": [],
   "source": [
    "import pandas as pd\n",
    "from tqdm.auto import tqdm\n",
    "import random"
   ]
  },
  {
   "cell_type": "code",
   "execution_count": null,
   "id": "eb755c09",
   "metadata": {},
   "outputs": [],
   "source": [
    "with open('/var/projetos/Jupyterhubstorage/victor.silva/brazilian-legal-text-bert/Datasets/HelBERT-base-uncased-scratch/teste.txt', 'r') as f:\n",
    "    dados = [line.strip() for line in f.readlines()]\n",
    "dados = pd.DataFrame(dados, columns=['text'])\n",
    "dados"
   ]
  },
  {
   "cell_type": "code",
   "execution_count": null,
   "id": "8943c1a4",
   "metadata": {},
   "outputs": [],
   "source": [
    "dados = pd.read_csv('/var/projetos/Jupyterhubstorage/victor.silva/HelBERTModel/Datasets/Objetos/ObjetosWeak/dataset_objects_weak_teste.csv')\n",
    "dados"
   ]
  },
  {
   "cell_type": "code",
   "execution_count": null,
   "id": "57df3f48-1293-4432-9e40-ac4122df6ae5",
   "metadata": {},
   "outputs": [],
   "source": [
    "def mask_words(sentence: str) -> list:\n",
    "    words = sentence.split()\n",
    "    num_words = len(words)\n",
    "    palavras_reais = []\n",
    "    min_masks = max(1, int(num_words * 0.01)) \n",
    "    max_masks = max(min_masks, int(num_words * 0.15))\n",
    "    num_masks = random.randint(min_masks, max_masks)\n",
    "    masked_words = words.copy()\n",
    "    if num_masks > 0:\n",
    "        masked_indices = random.sample(range(num_words), num_masks)\n",
    "        masked_indices = sorted(masked_indices)\n",
    "        for index in masked_indices:\n",
    "            palavras_reais.append(masked_words[index])\n",
    "            masked_words[index] = '[MASK]'\n",
    "    masked_sentence = ' '.join(masked_words)\n",
    "    return masked_sentence, palavras_reais"
   ]
  },
  {
   "cell_type": "code",
   "execution_count": null,
   "id": "974e201f-b066-42b7-bd6e-02054dfdabcf",
   "metadata": {},
   "outputs": [],
   "source": [
    "def mascaraDataFrame(df:pd.DataFrame, coluna: str) -> pd.DataFrame:\n",
    "    registros = []\n",
    "    for linha in tqdm(df.index, desc=\"Mascarando DataFrame de validação\"):\n",
    "        secao_limpa = df[coluna][linha]\n",
    "        secao_mascarada, labels = mask_words(secao_limpa)\n",
    "        registros.append({'sentenca': secao_mascarada, 'labels': labels})\n",
    "    dataframe = pd.DataFrame(registros)\n",
    "    return dataframe"
   ]
  },
  {
   "cell_type": "code",
   "execution_count": null,
   "id": "05935fd6-6797-4f44-9a9a-20f88e17a2b7",
   "metadata": {},
   "outputs": [],
   "source": [
    "dados = mascaraDataFrame(dados, 'text')\n",
    "dados"
   ]
  },
  {
   "cell_type": "code",
   "execution_count": null,
   "id": "512cfa74",
   "metadata": {},
   "outputs": [],
   "source": [
    "import re\n",
    "import string\n",
    "\n",
    "regex_pontuacao = '[' + re.escape(string.punctuation) + ']'\n",
    "regex_numero = '((\\d+)|(<NUMERO>)|([\\-–]))'"
   ]
  },
  {
   "cell_type": "code",
   "execution_count": null,
   "id": "c822ba87",
   "metadata": {},
   "outputs": [],
   "source": [
    "indices_drop = []\n",
    "for indice in tqdm(dados.index):\n",
    "    if len(dados['labels'][indice]) > 0:\n",
    "        for palavra in dados['labels'][indice]:\n",
    "            if re.search(regex_numero, palavra) or re.search(regex_pontuacao, palavra):\n",
    "                indices_drop.append(indice)\n",
    "                break\n",
    "    else:\n",
    "        indices_drop.append(indice)\n",
    "dados = dados.drop(indices_drop).reset_index(drop=True)\n",
    "dados                "
   ]
  },
  {
   "cell_type": "code",
   "execution_count": null,
   "id": "fdc53cf5",
   "metadata": {},
   "outputs": [],
   "source": [
    "dados = dados.sample(n=50000).reset_index(drop=True)\n",
    "dados"
   ]
  },
  {
   "cell_type": "code",
   "execution_count": null,
   "id": "69dd6a81-abb5-4e5f-952f-d6cf78eadd68",
   "metadata": {},
   "outputs": [],
   "source": [
    "dados.to_csv('/var/projetos/Jupyterhubstorage/victor.silva/HelBERTModel/Datasets/MaskedLanguageModeling/dataset_objects_weak_teste_mlm.csv', index=False, encoding=\"utf8\")"
   ]
  }
 ],
 "metadata": {
  "kernelspec": {
   "display_name": "Python 3 (ipykernel)",
   "language": "python",
   "name": "python3"
  },
  "language_info": {
   "codemirror_mode": {
    "name": "ipython",
    "version": 3
   },
   "file_extension": ".py",
   "mimetype": "text/x-python",
   "name": "python",
   "nbconvert_exporter": "python",
   "pygments_lexer": "ipython3",
   "version": "3.8.10"
  }
 },
 "nbformat": 4,
 "nbformat_minor": 5
}
