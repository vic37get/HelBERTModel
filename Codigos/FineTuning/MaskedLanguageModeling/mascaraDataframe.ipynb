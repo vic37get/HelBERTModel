{
 "cells": [
  {
   "cell_type": "code",
   "execution_count": null,
   "id": "485b9c4f-f95c-44ff-84f8-95e1278ae421",
   "metadata": {},
   "outputs": [],
   "source": [
    "from tqdm.auto import tqdm\n",
    "import pandas as pd\n",
    "import random"
   ]
  },
  {
   "cell_type": "code",
   "execution_count": null,
   "id": "6b5ce824-aa7a-4257-af08-63f7d1808872",
   "metadata": {},
   "outputs": [],
   "source": [
    "dados = pd.read_pickle('/var/projetos/Jupyterhubstorage/victor.silva/HelBERTModel/Datasets/MaskedLanguageModeling/Indicios/dataset_gold_hab_atualizada_chunks.pkl')\n",
    "dados"
   ]
  },
  {
   "cell_type": "code",
   "execution_count": null,
   "id": "939c63c4",
   "metadata": {},
   "outputs": [],
   "source": [
    "def retornaListaIndex(words, masked_words):\n",
    "    lista_index = []\n",
    "    for word in range(len(words)):\n",
    "        for masked_word in range(len(masked_words)):\n",
    "            if words[word] == masked_words[masked_word] and word not in lista_index:\n",
    "                lista_index.append(word)\n",
    "    return lista_index"
   ]
  },
  {
   "cell_type": "code",
   "execution_count": null,
   "id": "57df3f48-1293-4432-9e40-ac4122df6ae5",
   "metadata": {},
   "outputs": [],
   "source": [
    "def mask_words(sentence: str) -> list:\n",
    "    words = sentence.split()\n",
    "    words_mascaraveis = [word for word in words if word.isalpha()]\n",
    "    list_masked_indices = retornaListaIndex(words, words_mascaraveis)\n",
    "    palavras_reais = []\n",
    "    min_masks = max(1, int(len(list_masked_indices) * 0.01)) \n",
    "    max_masks = max(min_masks, int(len(list_masked_indices) * 0.15))\n",
    "    num_masks = random.randint(min_masks, max_masks)\n",
    "    masked_words = words.copy()\n",
    "    if num_masks > 0:\n",
    "        masked_indices = random.sample(list_masked_indices, num_masks)\n",
    "        masked_indices = sorted(masked_indices)\n",
    "        for index in masked_indices:\n",
    "            palavras_reais.append(masked_words[index])\n",
    "            masked_words[index] = '[MASK]'\n",
    "    masked_sentence = ' '.join(masked_words)\n",
    "    return masked_sentence, palavras_reais"
   ]
  },
  {
   "cell_type": "code",
   "execution_count": null,
   "id": "974e201f-b066-42b7-bd6e-02054dfdabcf",
   "metadata": {},
   "outputs": [],
   "source": [
    "def mascaraDataFrame(df:pd.DataFrame, coluna: str) -> pd.DataFrame:\n",
    "    registros = []\n",
    "    for linha in tqdm(df.index, desc=\"Mascarando DataFrame de validação\"):\n",
    "        try:\n",
    "            secao_limpa = df[coluna][linha]\n",
    "            secao_mascarada, labels = mask_words(secao_limpa)\n",
    "            registros.append({'text': secao_mascarada, 'labels': labels})\n",
    "        except:\n",
    "            pass\n",
    "    dataframe = pd.DataFrame(registros)\n",
    "    return dataframe"
   ]
  },
  {
   "cell_type": "code",
   "execution_count": null,
   "id": "05935fd6-6797-4f44-9a9a-20f88e17a2b7",
   "metadata": {},
   "outputs": [],
   "source": [
    "dados = mascaraDataFrame(dados, 'text')\n",
    "dados"
   ]
  },
  {
   "cell_type": "code",
   "execution_count": null,
   "id": "5e45318c",
   "metadata": {},
   "outputs": [],
   "source": [
    "dados.to_csv('/var/projetos/Jupyterhubstorage/victor.silva/HelBERTModel/Datasets/MaskedLanguageModeling/Indicios/dataset_gold_hab_atualizada_masked.csv', index=False)"
   ]
  }
 ],
 "metadata": {
  "kernelspec": {
   "display_name": "Python 3 (ipykernel)",
   "language": "python",
   "name": "python3"
  },
  "language_info": {
   "codemirror_mode": {
    "name": "ipython",
    "version": 3
   },
   "file_extension": ".py",
   "mimetype": "text/x-python",
   "name": "python",
   "nbconvert_exporter": "python",
   "pygments_lexer": "ipython3",
   "version": "3.9.5"
  }
 },
 "nbformat": 4,
 "nbformat_minor": 5
}
