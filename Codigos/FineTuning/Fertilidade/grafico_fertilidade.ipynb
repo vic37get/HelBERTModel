{
 "cells": [
  {
   "cell_type": "code",
   "execution_count": null,
   "metadata": {},
   "outputs": [],
   "source": [
    "from transformers import AutoTokenizer\n",
    "import pandas as pd\n",
    "from tqdm.auto import tqdm"
   ]
  },
  {
   "cell_type": "code",
   "execution_count": null,
   "metadata": {},
   "outputs": [],
   "source": [
    "dados_objetos = pd.read_csv(\"/var/projetos/Jupyterhubstorage/victor.silva/HelBERTModel/Datasets/Objetos/DatasetsGold/df_tipos_objetos_cased.csv\")\n",
    "dados_objetos"
   ]
  },
  {
   "cell_type": "code",
   "execution_count": null,
   "metadata": {},
   "outputs": [],
   "source": [
    "helbert = AutoTokenizer.from_pretrained(\"/var/projetos/Jupyterhubstorage/victor.silva/HelBERTModel/Modelos/PreTreinamento/HelBERT-uncased-fs/checkpoint-epoca-6\", max_length=512)\n",
    "bertimbau = AutoTokenizer.from_pretrained(\"neuralmind/bert-base-portuguese-cased\", max_length=512)\n",
    "mbert = AutoTokenizer.from_pretrained(\"bert-base-multilingual-cased\", max_length=512)\n",
    "jurisbert = AutoTokenizer.from_pretrained(\"alfaneo/jurisbert-base-portuguese-uncased\", max_length=512)\n",
    "legalbert = AutoTokenizer.from_pretrained(\"raquelsilveira/legalbertpt_sc\", max_length=512)"
   ]
  },
  {
   "cell_type": "code",
   "execution_count": null,
   "metadata": {},
   "outputs": [],
   "source": [
    "tokens_helbert = [len(helbert.tokenize(sentence))/len(sentence.split()) for sentence in dados_objetos[\"text\"]]\n",
    "tokens_bertimbau = [len(bertimbau.tokenize(sentence))/len(sentence.split()) for sentence in dados_objetos[\"text\"]]\n",
    "tokens_mbert = [len(mbert.tokenize(sentence))/len(sentence.split()) for sentence in dados_objetos[\"text\"]]\n",
    "tokens_jurisbert = [len(jurisbert.tokenize(sentence))/len(sentence.split()) for sentence in dados_objetos[\"text\"]]\n",
    "tokens_legalbert = [len(legalbert.tokenize(sentence))/len(sentence.split()) for sentence in dados_objetos[\"text\"]]"
   ]
  },
  {
   "cell_type": "code",
   "execution_count": null,
   "metadata": {},
   "outputs": [],
   "source": [
    "print(\"Media para o modelo HelBERT: \", sum(tokens_helbert)/len(tokens_helbert))\n",
    "print(\"Media para o modelo BERTimbau: \", sum(tokens_bertimbau)/len(tokens_bertimbau))\n",
    "print(\"Media para o modelo mBERT: \", sum(tokens_mbert)/len(tokens_mbert))\n",
    "print(\"Media para o modelo JurisBERT: \", sum(tokens_jurisbert)/len(tokens_jurisbert))\n",
    "print(\"Media para o modelo LegalBERT: \", sum(tokens_legalbert)/len(tokens_legalbert))"
   ]
  },
  {
   "cell_type": "code",
   "execution_count": null,
   "metadata": {},
   "outputs": [],
   "source": [
    "import matplotlib.pyplot as plt\n",
    "import seaborn as sns\n",
    "import pandas as pd\n",
    "\n",
    "# Exemplo de dados\n",
    "\n",
    "# Criando um DataFrame\n",
    "data = {\n",
    "    'HelBERT': tokens_helbert,\n",
    "    'BERTimbau': tokens_bertimbau,\n",
    "    'mBERT': tokens_mbert,\n",
    "    'JurisBERT': tokens_jurisbert,\n",
    "    'LegalBERT': tokens_legalbert\n",
    "}\n",
    "\n",
    "df = pd.DataFrame(data)\n",
    "\n",
    "# Configurando o estilo\n",
    "plt.style.use('seaborn-darkgrid')\n",
    "plt.figure(figsize=(14, 8))\n",
    "\n",
    "# Paleta de cores personalizada\n",
    "custom_palette = ['#1f77b4', '#ff7f0e', '#2ca02c', '#d62728', '#9467bd']\n",
    "\n",
    "# Criando o violin plot\n",
    "sns.violinplot(data=df, palette=custom_palette, inner='quartile', linewidth=1.25)\n",
    "\n",
    "# Adicionando título e rótulos com fonte maior\n",
    "plt.xlabel('Modelos', fontsize=16, labelpad=15)\n",
    "plt.ylabel('Fertilidade', fontsize=16, labelpad=15)\n",
    "\n",
    "# Ajustando os ticks\n",
    "plt.xticks(fontsize=14, weight='bold')\n",
    "plt.yticks(fontsize=14)\n",
    "\n",
    "# Adicionando grade estilizada\n",
    "plt.grid(True, which='major', linestyle='--', linewidth=0.6, alpha=0.6, color='gray')\n",
    "plt.grid(True, which='minor', linestyle=':', linewidth=0.4, alpha=0.4, color='gray')\n",
    "plt.minorticks_on()\n",
    "\n",
    "# Ajustando a cor de fundo do gráfico\n",
    "plt.gca().set_facecolor('#fff')\n",
    "\n",
    "# Ajustando a largura das linhas das bordas dos gráficos\n",
    "for spine in plt.gca().spines.values():\n",
    "    spine.set_visible(True)\n",
    "    spine.set_linewidth(1.2)\n",
    "\n",
    "plt.tight_layout()\n",
    "\n",
    "# Salvando o gráfico como imagem de alta resolução\n",
    "plt.savefig('fertilidade_modelos_objetos.svg')\n",
    "\n",
    "# Mostrando o gráfico\n",
    "plt.show()\n"
   ]
  },
  {
   "cell_type": "code",
   "execution_count": null,
   "metadata": {},
   "outputs": [],
   "source": [
    "dados_indicios = pd.read_csv(\"/var/projetos/Jupyterhubstorage/victor.silva/HelBERTModel/Datasets/Indicios/DatasetsGold/dataset_gold_hab_atualizada_cased.csv\")\n",
    "dados_indicios"
   ]
  },
  {
   "cell_type": "code",
   "execution_count": null,
   "metadata": {},
   "outputs": [],
   "source": [
    "tokens_helbert = [len(helbert.tokenize(sentence))/len(sentence.split()) for sentence in dados_indicios[\"text\"]]\n",
    "tokens_bertimbau = [len(bertimbau.tokenize(sentence))/len(sentence.split()) for sentence in dados_indicios[\"text\"]]\n",
    "tokens_mbert = [len(mbert.tokenize(sentence))/len(sentence.split()) for sentence in dados_indicios[\"text\"]]\n",
    "tokens_jurisbert = [len(jurisbert.tokenize(sentence))/len(sentence.split()) for sentence in dados_indicios[\"text\"]]\n",
    "tokens_legalbert = [len(legalbert.tokenize(sentence))/len(sentence.split()) for sentence in dados_indicios[\"text\"]]"
   ]
  },
  {
   "cell_type": "code",
   "execution_count": null,
   "metadata": {},
   "outputs": [],
   "source": [
    "print(\"Media para o modelo HelBERT: \", sum(tokens_helbert)/len(tokens_helbert))\n",
    "print(\"Media para o modelo BERTimbau: \", sum(tokens_bertimbau)/len(tokens_bertimbau))\n",
    "print(\"Media para o modelo mBERT: \", sum(tokens_mbert)/len(tokens_mbert))\n",
    "print(\"Media para o modelo JurisBERT: \", sum(tokens_jurisbert)/len(tokens_jurisbert))\n",
    "print(\"Media para o modelo LegalBERT: \", sum(tokens_legalbert)/len(tokens_legalbert))"
   ]
  },
  {
   "cell_type": "code",
   "execution_count": null,
   "metadata": {},
   "outputs": [],
   "source": [
    "import matplotlib.pyplot as plt\n",
    "import seaborn as sns\n",
    "import pandas as pd\n",
    "\n",
    "# Exemplo de dados\n",
    "\n",
    "# Criando um DataFrame\n",
    "data = {\n",
    "    'HelBERT': tokens_helbert,\n",
    "    'BERTimbau': tokens_bertimbau,\n",
    "    'mBERT': tokens_mbert,\n",
    "    'JurisBERT': tokens_jurisbert,\n",
    "    'LegalBERT': tokens_legalbert\n",
    "}\n",
    "\n",
    "df = pd.DataFrame(data)\n",
    "\n",
    "# Configurando o estilo\n",
    "plt.style.use('seaborn-darkgrid')\n",
    "plt.figure(figsize=(14, 8))\n",
    "\n",
    "# Paleta de cores personalizada\n",
    "custom_palette = ['#1f77b4', '#ff7f0e', '#2ca02c', '#d62728', '#9467bd']\n",
    "\n",
    "# Criando o violin plot\n",
    "sns.violinplot(data=df, palette=custom_palette, inner='quartile', linewidth=1.25)\n",
    "\n",
    "# Adicionando título e rótulos com fonte maior\n",
    "plt.xlabel('Modelos', fontsize=16, labelpad=15)\n",
    "plt.ylabel('Fertilidade', fontsize=16, labelpad=15)\n",
    "\n",
    "# Ajustando os ticks\n",
    "plt.xticks(fontsize=14, weight='bold')\n",
    "plt.yticks(fontsize=14)\n",
    "\n",
    "# Adicionando grade estilizada\n",
    "plt.grid(True, which='major', linestyle='--', linewidth=0.6, alpha=0.6, color='gray')\n",
    "plt.grid(True, which='minor', linestyle=':', linewidth=0.4, alpha=0.4, color='gray')\n",
    "plt.minorticks_on()\n",
    "\n",
    "# Ajustando a cor de fundo do gráfico\n",
    "plt.gca().set_facecolor('#fff')\n",
    "\n",
    "# Ajustando a largura das linhas das bordas dos gráficos\n",
    "for spine in plt.gca().spines.values():\n",
    "    spine.set_visible(True)\n",
    "    spine.set_linewidth(1.2)\n",
    "\n",
    "plt.tight_layout()\n",
    "\n",
    "# Salvando o gráfico como imagem de alta resolução\n",
    "plt.savefig('fertilidade_modelos_indicios.svg')\n",
    "\n",
    "# Mostrando o gráfico\n",
    "plt.show()\n"
   ]
  },
  {
   "cell_type": "code",
   "execution_count": null,
   "metadata": {},
   "outputs": [],
   "source": [
    "dados_lipset = pd.read_csv(\"/var/projetos/Jupyterhubstorage/victor.silva/HelBERTModel/Datasets/MaskedLanguageModeling/LipSet/LipSet_chunk_cased.csv\")\n",
    "dados_lipset"
   ]
  },
  {
   "cell_type": "code",
   "execution_count": null,
   "metadata": {},
   "outputs": [],
   "source": [
    "helbert = AutoTokenizer.from_pretrained(\"/var/projetos/Jupyterhubstorage/victor.silva/HelBERTModel/Modelos/PreTreinamento/HelBERT-uncased-fs/checkpoint-epoca-6\")\n",
    "bertimbau = AutoTokenizer.from_pretrained(\"neuralmind/bert-base-portuguese-cased\")\n",
    "mbert = AutoTokenizer.from_pretrained(\"bert-base-multilingual-cased\")\n",
    "jurisbert = AutoTokenizer.from_pretrained(\"alfaneo/jurisbert-base-portuguese-uncased\")\n",
    "legalbert = AutoTokenizer.from_pretrained(\"raquelsilveira/legalbertpt_sc\")"
   ]
  },
  {
   "cell_type": "code",
   "execution_count": null,
   "metadata": {},
   "outputs": [],
   "source": [
    "tokens_helbert = [len(helbert.tokenize(sentence))/len(sentence.split()) for sentence in tqdm(dados_lipset[\"text\"])]\n",
    "tokens_bertimbau = [len(bertimbau.tokenize(sentence))/len(sentence.split()) for sentence in tqdm(dados_lipset[\"text\"])]\n",
    "tokens_mbert = [len(mbert.tokenize(sentence))/len(sentence.split()) for sentence in tqdm(dados_lipset[\"text\"])]\n",
    "tokens_jurisbert = [len(jurisbert.tokenize(sentence))/len(sentence.split()) for sentence in tqdm(dados_lipset[\"text\"])]\n",
    "tokens_legalbert = [len(legalbert.tokenize(sentence))/len(sentence.split()) for sentence in tqdm(dados_lipset[\"text\"])]"
   ]
  },
  {
   "cell_type": "code",
   "execution_count": null,
   "metadata": {},
   "outputs": [],
   "source": [
    "print(\"Media para o modelo HelBERT: \", sum(tokens_helbert)/len(tokens_helbert))\n",
    "print(\"Media para o modelo BERTimbau: \", sum(tokens_bertimbau)/len(tokens_bertimbau))\n",
    "print(\"Media para o modelo mBERT: \", sum(tokens_mbert)/len(tokens_mbert))\n",
    "print(\"Media para o modelo JurisBERT: \", sum(tokens_jurisbert)/len(tokens_jurisbert))\n",
    "print(\"Media para o modelo LegalBERT: \", sum(tokens_legalbert)/len(tokens_legalbert))"
   ]
  },
  {
   "cell_type": "code",
   "execution_count": null,
   "metadata": {},
   "outputs": [],
   "source": [
    "import matplotlib.pyplot as plt\n",
    "import seaborn as sns\n",
    "import pandas as pd\n",
    "\n",
    "# Exemplo de dados\n",
    "\n",
    "# Criando um DataFrame\n",
    "data = {\n",
    "    'HelBERT': tokens_helbert,\n",
    "    'BERTimbau': tokens_bertimbau,\n",
    "    'mBERT': tokens_mbert,\n",
    "    'JurisBERT': tokens_jurisbert,\n",
    "    'LegalBERT': tokens_legalbert\n",
    "}\n",
    "\n",
    "df = pd.DataFrame(data)\n",
    "\n",
    "# Configurando o estilo\n",
    "plt.style.use('seaborn-darkgrid')\n",
    "plt.figure(figsize=(14, 8))\n",
    "\n",
    "# Paleta de cores personalizada\n",
    "custom_palette = ['#1f77b4', '#ff7f0e', '#2ca02c', '#d62728', '#9467bd']\n",
    "\n",
    "# Criando o violin plot\n",
    "sns.violinplot(data=df, palette=custom_palette, inner='quartile', linewidth=1.25)\n",
    "\n",
    "# Adicionando título e rótulos com fonte maior\n",
    "plt.xlabel('Modelos', fontsize=16, labelpad=15)\n",
    "plt.ylabel('Fertilidade', fontsize=16, labelpad=15)\n",
    "\n",
    "# Ajustando os ticks\n",
    "plt.xticks(fontsize=14, weight='bold')\n",
    "plt.yticks(fontsize=14)\n",
    "\n",
    "# Adicionando grade estilizada\n",
    "plt.grid(True, which='major', linestyle='--', linewidth=0.6, alpha=0.6, color='gray')\n",
    "plt.grid(True, which='minor', linestyle=':', linewidth=0.4, alpha=0.4, color='gray')\n",
    "plt.minorticks_on()\n",
    "\n",
    "# Ajustando a cor de fundo do gráfico\n",
    "plt.gca().set_facecolor('#fff')\n",
    "\n",
    "# Ajustando a largura das linhas das bordas dos gráficos\n",
    "for spine in plt.gca().spines.values():\n",
    "    spine.set_visible(True)\n",
    "    spine.set_linewidth(1.2)\n",
    "\n",
    "plt.tight_layout()\n",
    "\n",
    "# Salvando o gráfico como imagem de alta resolução\n",
    "plt.savefig('fertilidade_modelos_lipset.svg')\n",
    "\n",
    "# Mostrando o gráfico\n",
    "plt.show()"
   ]
  }
 ],
 "metadata": {
  "kernelspec": {
   "display_name": "Python 3",
   "language": "python",
   "name": "python3"
  },
  "language_info": {
   "codemirror_mode": {
    "name": "ipython",
    "version": 3
   },
   "file_extension": ".py",
   "mimetype": "text/x-python",
   "name": "python",
   "nbconvert_exporter": "python",
   "pygments_lexer": "ipython3",
   "version": "3.8.10"
  }
 },
 "nbformat": 4,
 "nbformat_minor": 2
}
