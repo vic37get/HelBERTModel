{
 "cells": [
  {
   "cell_type": "code",
   "execution_count": 2,
   "metadata": {},
   "outputs": [],
   "source": [
    "from focalloss import FocalLoss\n"
   ]
  },
  {
   "cell_type": "code",
   "execution_count": 4,
   "metadata": {},
   "outputs": [
    {
     "name": "stdout",
     "output_type": "stream",
     "text": [
      "torch.Size([32, 7])\n",
      "torch.Size([32, 7])\n"
     ]
    }
   ],
   "source": [
    "import torch\n",
    "\n",
    "# Create a random tensor with 2 dimensionsp\n",
    "predict = torch.randn(32, 7, requires_grad=True)\n",
    "label= torch.empty(32, 7).random_(2)\n",
    "criterion=FocalLoss(gamma=1.5)\n",
    "print(predict.shape)\n",
    "print(label.shape)\n"
   ]
  },
  {
   "cell_type": "code",
   "execution_count": 34,
   "metadata": {},
   "outputs": [
    {
     "name": "stdout",
     "output_type": "stream",
     "text": [
      "torch.Size([32, 7])\n",
      "torch.Size([32, 7])\n"
     ]
    }
   ],
   "source": [
    "print(predict.size())\n",
    "print(label.size())"
   ]
  },
  {
   "cell_type": "code",
   "execution_count": 5,
   "metadata": {},
   "outputs": [],
   "source": [
    "l=criterion(predict,label)"
   ]
  },
  {
   "cell_type": "code",
   "execution_count": 6,
   "metadata": {},
   "outputs": [
    {
     "data": {
      "text/plain": [
       "tensor(0.3132, grad_fn=<MeanBackward0>)"
      ]
     },
     "execution_count": 6,
     "metadata": {},
     "output_type": "execute_result"
    }
   ],
   "source": [
    "l"
   ]
  },
  {
   "cell_type": "code",
   "execution_count": 31,
   "metadata": {},
   "outputs": [],
   "source": [
    "import torch.nn.functional as F\n",
    "input = torch.randn(3, requires_grad=True)\n",
    "target = torch.empty(3).random_(2)\n",
    "loss = F.binary_cross_entropy_with_logits(input, target)\n",
    "loss.backward()"
   ]
  },
  {
   "cell_type": "code",
   "execution_count": 1,
   "metadata": {},
   "outputs": [
    {
     "name": "stdout",
     "output_type": "stream",
     "text": [
      "torch.Size([4, 1, 512])\n"
     ]
    }
   ],
   "source": [
    "import torch\n",
    "\n",
    "# Create a random tensor with dimensions 4x1x512\n",
    "tensor = torch.randn(4, 1, 512)\n",
    "print(tensor.shape)\n"
   ]
  },
  {
   "cell_type": "code",
   "execution_count": 2,
   "metadata": {},
   "outputs": [
    {
     "name": "stdout",
     "output_type": "stream",
     "text": [
      "torch.Size([4, 512])\n"
     ]
    }
   ],
   "source": [
    "tensor = tensor.squeeze(dim=1)\n",
    "print(tensor.shape)\n"
   ]
  },
  {
   "cell_type": "code",
   "execution_count": 1,
   "metadata": {},
   "outputs": [
    {
     "name": "stdout",
     "output_type": "stream",
     "text": [
      "tensor([ 0.0623, -0.0147,  1.3364,  0.6968,  0.3368, -0.0726,  1.1521,  0.1470,\n",
      "         0.7708, -0.1105,  0.0000,  0.0000,  0.0000,  0.0000,  0.0000])\n"
     ]
    }
   ],
   "source": [
    "import torch\n",
    "\n",
    "# Create a tensor with 10 random values\n",
    "random_tensor = torch.randn(10)\n",
    "\n",
    "# Create a tensor with 5 zero elements\n",
    "zero_tensor = torch.zeros(5)\n",
    "\n",
    "# Concatenate the two tensors\n",
    "result_tensor = torch.cat((random_tensor, zero_tensor))\n",
    "\n",
    "print(result_tensor)\n"
   ]
  },
  {
   "cell_type": "code",
   "execution_count": 2,
   "metadata": {},
   "outputs": [],
   "source": [
    "non_zero_indices = torch.nonzero(result_tensor)\n",
    "result_tensor = result_tensor[non_zero_indices].squeeze()\n"
   ]
  },
  {
   "cell_type": "code",
   "execution_count": 3,
   "metadata": {},
   "outputs": [
    {
     "data": {
      "text/plain": [
       "tensor([ 0.0623, -0.0147,  1.3364,  0.6968,  0.3368, -0.0726,  1.1521,  0.1470,\n",
       "         0.7708, -0.1105])"
      ]
     },
     "execution_count": 3,
     "metadata": {},
     "output_type": "execute_result"
    }
   ],
   "source": [
    "result_tensor"
   ]
  },
  {
   "cell_type": "code",
   "execution_count": null,
   "metadata": {},
   "outputs": [],
   "source": [
    "import torch\n",
    "\n",
    "# Create empty tensors\n",
    "input_ids = torch.empty(0)\n",
    "attention_mask = torch.empty(0)\n",
    "\n",
    "# Create dictionary\n",
    "tensor_dict = {'input_ids': input_ids, 'attention_mask': attention_mask}\n"
   ]
  },
  {
   "cell_type": "code",
   "execution_count": 8,
   "metadata": {},
   "outputs": [],
   "source": [
    "import pandas as pd\n",
    "df=pd.read_csv(\"../Datasets/publicar/dataset_syntetic_hab.csv\")"
   ]
  },
  {
   "cell_type": "code",
   "execution_count": 9,
   "metadata": {},
   "outputs": [],
   "source": [
    "import re\n",
    "def find_sentence_with_substring(text, regex):    \n",
    "    \n",
    "    sentences = re.split('\\. |; |, |\\*|\\n', text)\n",
    "    sents = []\n",
    "    for sentence in sentences:\n",
    "        if re.search(regex, sentence):\n",
    "            sents.append(sentence)\n",
    "    return sents"
   ]
  },
  {
   "cell_type": "code",
   "execution_count": 10,
   "metadata": {},
   "outputs": [],
   "source": [
    "exp_certidao_protesto = re.compile(r'((certid[aã]o).{0,100}(protesto))',flags=re.IGNORECASE|re.S)\n",
    "lista=[]\n",
    "for i,row in df.iterrows():\n",
    "    if row['certidao_protesto']==1:\n",
    "        lista = list(set(lista+find_sentence_with_substring(row['text'], exp_certidao_protesto)))"
   ]
  },
  {
   "cell_type": "code",
   "execution_count": 11,
   "metadata": {},
   "outputs": [
    {
     "data": {
      "text/plain": [
       "['certidao extrajudicial de protesto',\n",
       " 'expedida no domicilio da pessoa fisica c certidaonegativa de protestoemitidaporcartorio de protesto da cidade de domicilio da licitanteouporcartorios',\n",
       " 'que ratifique a nao expedicao da certidao <numero> devera ainda ser apresentado a certidao de comprovacao do numero de cartorios referentes a distribuicao de protestos',\n",
       " 'devidamente registrado ou autenticado na junta comercial da sede ou domicilio da licitante h autorizacao de operacao acompanhado de suas respectivas taxas devidamente quitadas <numero> certidao negativa de titulos e protestos emitida pelos cartorios da sede da empresa declarado o inicio dos trabalhos',\n",
       " 'caso distinto da sede com data de expedicao inferior a <numero> dias d <numero> certidao negativa do cartorio de distribuicao e de protestos expedida pelo distribuidor da comarca da sede e/ou do principal estabelecimento da empresa',\n",
       " 'que a norma que trata sobre a prevencao da saude e da integridade fisica dos trabalhadores <numero> certidao do corpo de bombeiros do estado com validade vigente <numero> certidao negativa de titulos e protestos em nome da licitante',\n",
       " 'quando nao vier expresso o prazo de validade <numero> certidao negativa do cartorio de distribuicao e de protestos expedida pelo distribuidor da comarca da sede e/ou do principal estabelecimento da empresa',\n",
       " 'juntamente com a certidao indicativa dos cartorios de protesto e letras',\n",
       " 'certidoes negativas de cartorios de reclamacao de titulos da comarca do licitante certidao do forum indicando os numeros de cartorios de protesto da comarca do licitante atestado de idoneidade financeira emitida por uma instituicao bancaria <numero> certidao de recuperacao judicial e extrajudicial da comarca do licitante balanco patrimonial e demonstracao do resultado do exercicio com termo de abertura e fechamento e o numero do livro',\n",
       " 'datada dos ultimos <numero> dias ou que esteja dentro do prazo de validade expresso propria certidao acompanhado da certtdao de protestos de cartorio da sede da licitante',\n",
       " 'observadas as disposicoes da lei <numero> certidao negativa do cartorio de distribuicao e de protestos expedida pelo distribuidor da comarca da sede e/ou do principal estabelecimento da empresa',\n",
       " 'observadas as disposicoes da lei <numero> d certidao negativa do cartorio de distribuicao e de protestos expedida pelo distribuidor da comarca da sede e/ou do principal estabelecimento da empresa',\n",
       " 'de acordo com o decreto federal <numero> de <numero> de setembro de <numero> d certidao negativa de infracoes trabalhistas a legislacao de protecao a crianca e ao adolescente e certidao negativa de infracoes trabalhistas a pessoa com deficiencia f certidao negativa de infracoes trabalhistas e debitos salariais g certidao de protesto h comprovante de aptidao',\n",
       " 'acompanhada da certidao secretaria municipal de administracao e financas comissao permanente de licitacao negativa de protestos da sede da licitante',\n",
       " 'devidamente registrado ou autenticado na junta comercial da sede ou domicilio da licitante h autorizacao de operacao acompanhado de suas respectivas taxas devidamente quitadas <numero> certidao negativa de titulos e protestos emitida pelos cartorios da sede da empresa <numero> relativo a capacidade tecnica',\n",
       " 'certidao do forum indicando os numeros de cartorios de protesto da comarca do licitante',\n",
       " 'caso distinto da sede com data de expedicao inferior a <numero> dias <numero> certidao negativa do cartorio de distribuicao e de protestos expedida pelo distribuidor da comarca da sede e/ou do principal estabelecimento da empresa']"
      ]
     },
     "execution_count": 11,
     "metadata": {},
     "output_type": "execute_result"
    }
   ],
   "source": [
    "lista"
   ]
  },
  {
   "cell_type": "code",
   "execution_count": 9,
   "metadata": {},
   "outputs": [],
   "source": [
    "from transformers import BertTokenizer\n",
    "tokenizer = BertTokenizer.from_pretrained(\"neuralmind/bert-base-portuguese-cased\")\n",
    "encoding=tokenizer(df['text'].tolist(), add_special_tokens=False, truncation=False)"
   ]
  },
  {
   "cell_type": "code",
   "execution_count": 10,
   "metadata": {},
   "outputs": [],
   "source": [
    "tams=[]\n",
    "for i in encoding['input_ids']:\n",
    "    tams.append(len(i))"
   ]
  },
  {
   "cell_type": "code",
   "execution_count": 12,
   "metadata": {},
   "outputs": [
    {
     "data": {
      "text/html": [
       "<div>\n",
       "<style scoped>\n",
       "    .dataframe tbody tr th:only-of-type {\n",
       "        vertical-align: middle;\n",
       "    }\n",
       "\n",
       "    .dataframe tbody tr th {\n",
       "        vertical-align: top;\n",
       "    }\n",
       "\n",
       "    .dataframe thead th {\n",
       "        text-align: right;\n",
       "    }\n",
       "</style>\n",
       "<table border=\"1\" class=\"dataframe\">\n",
       "  <thead>\n",
       "    <tr style=\"text-align: right;\">\n",
       "      <th></th>\n",
       "      <th>0</th>\n",
       "    </tr>\n",
       "  </thead>\n",
       "  <tbody>\n",
       "    <tr>\n",
       "      <th>count</th>\n",
       "      <td>1266.000000</td>\n",
       "    </tr>\n",
       "    <tr>\n",
       "      <th>mean</th>\n",
       "      <td>3429.700632</td>\n",
       "    </tr>\n",
       "    <tr>\n",
       "      <th>std</th>\n",
       "      <td>1887.861510</td>\n",
       "    </tr>\n",
       "    <tr>\n",
       "      <th>min</th>\n",
       "      <td>183.000000</td>\n",
       "    </tr>\n",
       "    <tr>\n",
       "      <th>25%</th>\n",
       "      <td>2194.500000</td>\n",
       "    </tr>\n",
       "    <tr>\n",
       "      <th>50%</th>\n",
       "      <td>3075.000000</td>\n",
       "    </tr>\n",
       "    <tr>\n",
       "      <th>75%</th>\n",
       "      <td>4184.000000</td>\n",
       "    </tr>\n",
       "    <tr>\n",
       "      <th>max</th>\n",
       "      <td>15078.000000</td>\n",
       "    </tr>\n",
       "  </tbody>\n",
       "</table>\n",
       "</div>"
      ],
      "text/plain": [
       "                  0\n",
       "count   1266.000000\n",
       "mean    3429.700632\n",
       "std     1887.861510\n",
       "min      183.000000\n",
       "25%     2194.500000\n",
       "50%     3075.000000\n",
       "75%     4184.000000\n",
       "max    15078.000000"
      ]
     },
     "execution_count": 12,
     "metadata": {},
     "output_type": "execute_result"
    }
   ],
   "source": [
    "import numpy as np\n",
    "import pandas as pd\n",
    "\n",
    "pd.DataFrame(np.array(tams)).describe()\n"
   ]
  },
  {
   "cell_type": "code",
   "execution_count": null,
   "metadata": {},
   "outputs": [],
   "source": []
  }
 ],
 "metadata": {
  "kernelspec": {
   "display_name": ".venv-3.9",
   "language": "python",
   "name": "python3"
  },
  "language_info": {
   "codemirror_mode": {
    "name": "ipython",
    "version": 3
   },
   "file_extension": ".py",
   "mimetype": "text/x-python",
   "name": "python",
   "nbconvert_exporter": "python",
   "pygments_lexer": "ipython3",
   "version": "3.9.5"
  }
 },
 "nbformat": 4,
 "nbformat_minor": 2
}
