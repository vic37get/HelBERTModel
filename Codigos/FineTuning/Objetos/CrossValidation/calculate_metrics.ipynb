{
 "cells": [
  {
   "cell_type": "code",
   "execution_count": 3,
   "metadata": {},
   "outputs": [],
   "source": [
    "import json"
   ]
  },
  {
   "cell_type": "code",
   "execution_count": 9,
   "metadata": {},
   "outputs": [],
   "source": [
    "from numpy import mean\n",
    "nome_modelo = 'mBERT'\n",
    "metricas = {'precision': [], 'recall': [], 'f1': [], 'accuracy': [], 'epochs': [], 'training_time': []}\n",
    "for i in range(1, 4):\n",
    "    dados = json.load(open(f'/var/projetos/Jupyterhubstorage/victor.silva/HelBERTModel/Metricas/Objetos/CrossValidation/NaoCongelado/TestesCrossValid/metricsObjetoTeste{i}-{nome_modelo}.json'))\n",
    "    metricas['precision'].append(dados['precisao'])\n",
    "    metricas['recall'].append(dados['recall'])\n",
    "    metricas['f1'].append(dados['f1'])\n",
    "    metricas['accuracy'].append(dados['acuracia'])\n",
    "    metricas['epochs'].append(dados['mean_epochs'])\n",
    "    metricas['training_time'].append(dados['mean_training_time_epoch'])\n",
    "metricas_finais = {k: mean(v) for k, v in metricas.items()}\n",
    "metricas_finais['modelo'] = nome_modelo\n",
    "json.dump(metricas_finais, open(f'/var/projetos/Jupyterhubstorage/victor.silva/HelBERTModel/Metricas/Objetos/CrossValidation/NaoCongelado/TestesCrossValid/Medias/metricsObjetoTeste-{nome_modelo}.json', 'w'))"
   ]
  }
 ],
 "metadata": {
  "kernelspec": {
   "display_name": "Python 3",
   "language": "python",
   "name": "python3"
  },
  "language_info": {
   "codemirror_mode": {
    "name": "ipython",
    "version": 3
   },
   "file_extension": ".py",
   "mimetype": "text/x-python",
   "name": "python",
   "nbconvert_exporter": "python",
   "pygments_lexer": "ipython3",
   "version": "3.8.10"
  }
 },
 "nbformat": 4,
 "nbformat_minor": 2
}
