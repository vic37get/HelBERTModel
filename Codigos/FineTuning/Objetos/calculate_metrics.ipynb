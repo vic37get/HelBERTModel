{
 "cells": [
  {
   "cell_type": "code",
   "execution_count": null,
   "metadata": {},
   "outputs": [],
   "source": [
    "import json\n",
    "import numpy as np"
   ]
  },
  {
   "cell_type": "markdown",
   "metadata": {},
   "source": [
    "### Geração das curvas train_loss, val_loss e f1"
   ]
  },
  {
   "cell_type": "markdown",
   "metadata": {},
   "source": [
    "### Curva F1 Score"
   ]
  },
  {
   "cell_type": "code",
   "execution_count": null,
   "metadata": {},
   "outputs": [],
   "source": [
    "# Mudar a quantidade de épocas, colocando a quantidade para cada modelo."
   ]
  },
  {
   "cell_type": "code",
   "execution_count": null,
   "metadata": {},
   "outputs": [],
   "source": [
    "helbert_6 = json.load(open('/var/projetos/Jupyterhubstorage/victor.silva/HelBERTModel/Metricas/Objetos/CrossValidation/Congelado/metrics_objeto_congelado_cased-1-HelBERT-uncased-fs-6.json'))\n",
    "bertimbau = json.load(open('/var/projetos/Jupyterhubstorage/victor.silva/HelBERTModel/Metricas/Objetos/CrossValidation/Congelado/metrics_objeto_congelado_cased-1-BERTimbau.json'))\n",
    "legal_bert = json.load(open('/var/projetos/Jupyterhubstorage/victor.silva/HelBERTModel/Metricas/Objetos/CrossValidation/Congelado/metrics_objeto_congelado_cased-1-LegalBERT-pt-sc.json'))\n",
    "juris_bert = json.load(open('/var/projetos/Jupyterhubstorage/victor.silva/HelBERTModel/Metricas/Objetos/CrossValidation/Congelado/metrics_objeto_congelado_cased-1-jurisBERT.json'))\n",
    "mbert = json.load(open('/var/projetos/Jupyterhubstorage/victor.silva/HelBERTModel/Metricas/Objetos/CrossValidation/Congelado/metrics_objeto_congelado_cased-1-mBERT.json'))"
   ]
  },
  {
   "cell_type": "code",
   "execution_count": null,
   "metadata": {},
   "outputs": [],
   "source": [
    "def retorna_media_metricas(metricas, metrica):\n",
    "    max_length = max(len(lista) for lista in metricas[metrica])\n",
    "    # Lista para armazenar as médias\n",
    "    medias = []\n",
    "    # Calcular a média para cada índice até o comprimento máximo\n",
    "    for i in range(max_length):\n",
    "        valores = [lista[i] for lista in metricas[metrica] if i < len(lista)]\n",
    "        media = np.mean(valores)\n",
    "        medias.append(media)\n",
    "    return medias"
   ]
  },
  {
   "cell_type": "code",
   "execution_count": null,
   "metadata": {},
   "outputs": [],
   "source": [
    "media_f1_helbert_6 = retorna_media_metricas(helbert_6, 'f1_curve')\n",
    "media_f1_bertimbau = retorna_media_metricas(bertimbau, 'f1_curve')\n",
    "media_f1_legal_bert = retorna_media_metricas(legal_bert, 'f1_curve')\n",
    "media_f1_juris_bert = retorna_media_metricas(juris_bert, 'f1_curve')\n",
    "media_f1_mbert = retorna_media_metricas(mbert, 'f1_curve')"
   ]
  },
  {
   "cell_type": "code",
   "execution_count": null,
   "metadata": {},
   "outputs": [],
   "source": [
    "f1_curves = [media_f1_helbert_6, media_f1_bertimbau, media_f1_legal_bert, media_f1_juris_bert, media_f1_mbert]\n",
    "modelos = ['HelBERT-uncased-fs-6', 'BERTimbau', 'LegalBERT-pt-sc', 'JurisBERT', 'mBERT']"
   ]
  },
  {
   "cell_type": "code",
   "execution_count": null,
   "metadata": {},
   "outputs": [],
   "source": [
    "import matplotlib.pyplot as plt\n",
    "\n",
    "# Plotando o gráfico\n",
    "plt.figure(figsize=(12, 8))\n",
    "\n",
    "# Plotando cada curva de F1 Score\n",
    "for i, f1_curve in enumerate(f1_curves):\n",
    "    epochs = range(1, len(f1_curve) + 1)\n",
    "    plt.plot(epochs, f1_curve, label=f'{modelos[i]}', linestyle='-', marker='o', markersize=5, linewidth=2.5)\n",
    "    \n",
    "    # Adicionando os valores nas linhas\n",
    "    for j, value in enumerate(f1_curve):\n",
    "        if j == 0 or j == len(f1_curve) - 1:\n",
    "            plt.annotate(f'{value:.2f}', (epochs[j], f1_curve[j]), textcoords=\"offset points\", xytext=(0,10), ha='center', fontsize=10)\n",
    "\n",
    "# Títulos e rótulos\n",
    "plt.xlabel('Época', fontsize=12)\n",
    "plt.ylabel('F1 Score', fontsize=12)\n",
    "\n",
    "# Adicionando grade\n",
    "plt.grid(True, linestyle='--', linewidth=0.5)\n",
    "\n",
    "# Adicionando legenda\n",
    "plt.legend(fontsize=12)\n",
    "\n",
    "# Melhorando a legibilidade dos eixos\n",
    "plt.xticks(fontsize=12)\n",
    "plt.yticks(fontsize=12)\n",
    "\n",
    "plt.tight_layout()\n",
    "\n",
    "plt.savefig('f1_score_objetos_congelados.svg')\n",
    "# Exibindo o gráfico\n",
    "plt.show()\n"
   ]
  },
  {
   "cell_type": "markdown",
   "metadata": {},
   "source": [
    "### Curva Val_loss"
   ]
  },
  {
   "cell_type": "code",
   "execution_count": null,
   "metadata": {},
   "outputs": [],
   "source": [
    "helbert_6 = json.load(open('/var/projetos/Jupyterhubstorage/victor.silva/HelBERTModel/Metricas/Objetos/CrossValidation/Congelado/metrics_objeto_congelado_cased-1-HelBERT-uncased-fs-6.json'))\n",
    "bertimbau = json.load(open('/var/projetos/Jupyterhubstorage/victor.silva/HelBERTModel/Metricas/Objetos/CrossValidation/Congelado/metrics_objeto_congelado_cased-1-BERTimbau.json'))\n",
    "legal_bert = json.load(open('/var/projetos/Jupyterhubstorage/victor.silva/HelBERTModel/Metricas/Objetos/CrossValidation/Congelado/metrics_objeto_congelado_cased-1-LegalBERT-pt-sc.json'))\n",
    "juris_bert = json.load(open('/var/projetos/Jupyterhubstorage/victor.silva/HelBERTModel/Metricas/Objetos/CrossValidation/Congelado/metrics_objeto_congelado_cased-1-jurisBERT.json'))\n",
    "mbert = json.load(open('/var/projetos/Jupyterhubstorage/victor.silva/HelBERTModel/Metricas/Objetos/CrossValidation/Congelado/metrics_objeto_congelado_cased-1-mBERT.json'))"
   ]
  },
  {
   "cell_type": "code",
   "execution_count": null,
   "metadata": {},
   "outputs": [],
   "source": [
    "media_val_loss_helbert_6 = retorna_media_metricas(helbert_6, 'val_loss_curve')\n",
    "media_val_loss_bertimbau = retorna_media_metricas(bertimbau, 'val_loss_curve')\n",
    "media_val_loss_legal_bert = retorna_media_metricas(legal_bert, 'val_loss_curve')\n",
    "media_val_loss_juris_bert = retorna_media_metricas(juris_bert, 'val_loss_curve')\n",
    "media_val_loss_mbert = retorna_media_metricas(mbert, 'val_loss_curve')"
   ]
  },
  {
   "cell_type": "code",
   "execution_count": null,
   "metadata": {},
   "outputs": [],
   "source": [
    "val_loss_curves = [media_val_loss_helbert_6, media_val_loss_bertimbau, media_val_loss_legal_bert, media_val_loss_juris_bert, media_val_loss_mbert]\n",
    "modelos = ['HelBERT-uncased-fs-6', 'BERTimbau', 'LegalBERT-pt-sc', 'JurisBERT', 'mBERT']"
   ]
  },
  {
   "cell_type": "code",
   "execution_count": null,
   "metadata": {},
   "outputs": [],
   "source": [
    "import matplotlib.pyplot as plt\n",
    "\n",
    "# Plotando o gráfico\n",
    "plt.figure(figsize=(12, 8))\n",
    "\n",
    "# Plotando cada curva de F1 Score\n",
    "for i, val_loss in enumerate(val_loss_curves):\n",
    "    epochs = range(1, len(val_loss) + 1)\n",
    "    plt.plot(epochs, val_loss, label=f'{modelos[i]}', linestyle='-', marker='o', markersize=5, linewidth=2.5)\n",
    "    \n",
    "    # Adicionando os valores nas linhas\n",
    "    for j, value in enumerate(val_loss):\n",
    "        if j == 0 or j == len(val_loss) - 1:\n",
    "            plt.annotate(f'{value:.2f}', (epochs[j], val_loss[j]), textcoords=\"offset points\", xytext=(0,10), ha='center', fontsize=10)\n",
    "\n",
    "# Títulos e rótulos\n",
    "plt.xlabel('Época', fontsize=12)\n",
    "plt.ylabel('Loss de Validação', fontsize=12)\n",
    "\n",
    "# Adicionando grade\n",
    "plt.grid(True, linestyle='--', linewidth=0.5)\n",
    "\n",
    "# Adicionando legenda\n",
    "plt.legend(fontsize=12)\n",
    "\n",
    "# Melhorando a legibilidade dos eixos\n",
    "plt.xticks(fontsize=12)\n",
    "plt.yticks(fontsize=12)\n",
    "\n",
    "plt.tight_layout()\n",
    "\n",
    "plt.savefig('val_loss_objetos_congelados.svg')\n",
    "# Exibindo o gráfico\n",
    "plt.show()\n"
   ]
  }
 ],
 "metadata": {
  "kernelspec": {
   "display_name": "Python 3",
   "language": "python",
   "name": "python3"
  },
  "language_info": {
   "codemirror_mode": {
    "name": "ipython",
    "version": 3
   },
   "file_extension": ".py",
   "mimetype": "text/x-python",
   "name": "python",
   "nbconvert_exporter": "python",
   "pygments_lexer": "ipython3",
   "version": "3.8.10"
  }
 },
 "nbformat": 4,
 "nbformat_minor": 2
}
